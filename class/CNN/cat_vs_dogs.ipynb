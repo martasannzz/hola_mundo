{
  "cells": [
    {
      "cell_type": "markdown",
      "metadata": {
        "id": "4uXybcmO2V2q"
      },
      "source": [
        "It is highly recommended to use a powerful **GPU**, you can use it for free uploading this notebook to [Google Colab](https://colab.research.google.com/notebooks/intro.ipynb).\n",
        "<table align=\"center\">\n",
        " <td align=\"center\"><a target=\"_blank\" href=\"https://colab.research.google.com/github/ezponda/intro_deep_learning/blob/main/class/CNN/cat_vs_dogs.ipynb\">\n",
        "        <img src=\"https://colab.research.google.com/img/colab_favicon_256px.png\"  width=\"50\" height=\"50\" style=\"padding-bottom:5px;\" />Run in Google Colab</a></td>\n",
        "  <td align=\"center\"><a target=\"_blank\" href=\"https://github.com/ezponda/intro_deep_learning/blob/main/class/CNN/cat_vs_dogs.ipynb\">\n",
        "        <img src=\"https://github.githubassets.com/images/modules/logos_page/GitHub-Mark.png\"  width=\"50\" height=\"50\" style=\"padding-bottom:5px;\" />View Source on GitHub</a></td>\n",
        "</table>"
      ]
    },
    {
      "cell_type": "code",
      "execution_count": 1,
      "metadata": {
        "id": "6xMF893leGzR"
      },
      "outputs": [],
      "source": [
        "import numpy as np\n",
        "import tensorflow_datasets as tfds\n",
        "import keras\n",
        "import tensorflow as tf\n",
        "import matplotlib.pyplot as plt\n",
        "from tensorflow.keras import layers\n",
        "tf.random.set_seed(0)"
      ]
    },
    {
      "cell_type": "markdown",
      "metadata": {
        "id": "l2YCPVtu2V2w"
      },
      "source": [
        "# Introduction to Tensorflow  Dataset\n",
        "[Tensorflow tf.data.Dataset tutorial](https://www.tensorflow.org/guide/data)\n",
        "\n",
        "TensorFlow's tf.data API, which provides a convenient way to create efficient input pipelines for training and evaluation of machine learning models. `tf.data.Dataset` is an abstraction of a\n",
        "sequence of elements.\n",
        "\n",
        "The first step to using the tf.data API is creating a Dataset object. Datasets can be created from various sources, including in-memory data, files, or by generating data on-the-fly.\n",
        "\n",
        "For this example, let's create a dataset from an in-memory NumPy array.\n",
        "\n",
        "VAMOS A ENTRENAR UN CLASIFICADOR DE IMAGENES DE PERROS Y GATOS (CLASIFICADOR BIANRIO)"
      ]
    },
    {
      "cell_type": "code",
      "execution_count": 2,
      "metadata": {
        "id": "nRO7zAn62V2x"
      },
      "outputs": [],
      "source": [
        "# Create a sample NumPy array\n",
        "data = np.array([1, 2, 3, 4, 5, 6, 7, 8, 9, 10])\n",
        "\n",
        "# Create a tf.data Dataset from the NumPy array\n",
        "dataset = tf.data.Dataset.from_tensor_slices(data)\n"
      ]
    },
    {
      "cell_type": "markdown",
      "metadata": {
        "id": "XnE0EFXs2V2y"
      },
      "source": [
        "The `Dataset` object is a Python iterable. This makes it possible to consume its\n",
        "elements using a for loop:"
      ]
    },
    {
      "cell_type": "code",
      "execution_count": 3,
      "metadata": {
        "colab": {
          "base_uri": "https://localhost:8080/"
        },
        "id": "M6EyFStd2V2y",
        "outputId": "1bdef5d3-ff87-45ea-a293-7ee49d0acd86"
      },
      "outputs": [
        {
          "output_type": "stream",
          "name": "stdout",
          "text": [
            "1\n",
            "2\n",
            "3\n",
            "4\n",
            "5\n",
            "6\n",
            "7\n",
            "8\n",
            "9\n",
            "10\n"
          ]
        }
      ],
      "source": [
        "for elem in dataset:\n",
        "      print(elem.numpy())"
      ]
    },
    {
      "cell_type": "markdown",
      "metadata": {
        "id": "Y2U9xZDJ2V2z"
      },
      "source": [
        "Now that we have a dataset, we can apply various transformations to prepare the data for training. Some common transformations include shuffling, batching, and repeating.\n",
        "\n",
        "**Shuffle**\n",
        "\n",
        "Randomly shuffles the elements of this dataset.\n",
        "\n",
        "This dataset fills a buffer with buffer_size elements, then randomly samples elements from this buffer, replacing the selected elements with new elements. For perfect shuffling, a buffer size greater than or equal to the full size of the dataset is required."
      ]
    },
    {
      "cell_type": "code",
      "execution_count": null,
      "metadata": {
        "id": "yHvuxuGG2V20"
      },
      "outputs": [],
      "source": [
        "buffer_size = 2\n",
        "\n",
        "dataset = dataset.shuffle(buffer_size)\n",
        "\n",
        "for elem in dataset:\n",
        "      print(elem.numpy())"
      ]
    },
    {
      "cell_type": "markdown",
      "metadata": {
        "id": "-i2OdFrz2V20"
      },
      "source": [
        "**Batch**\n",
        "\n",
        "Combines consecutive elements of this dataset into batches."
      ]
    },
    {
      "cell_type": "code",
      "execution_count": null,
      "metadata": {
        "id": "5OMyWRcI2V21"
      },
      "outputs": [],
      "source": [
        "batch_size = 2\n",
        "\n",
        "dataset = dataset.batch(batch_size)\n",
        "\n",
        "for elem in dataset:\n",
        "      print(elem.numpy())"
      ]
    },
    {
      "cell_type": "markdown",
      "metadata": {
        "id": "bUXp1xAF2V21"
      },
      "source": [
        "In addition to using in-memory data, the `tf.data` API can also read data from files, such as images or text files. For example, let's create a dataset of text lines from a sample file."
      ]
    },
    {
      "cell_type": "code",
      "execution_count": null,
      "metadata": {
        "id": "49Enj0us2V22"
      },
      "outputs": [],
      "source": [
        "# Create a sample text file\n",
        "with open(\"sample.txt\", \"w\") as f:\n",
        "    f.write(\"This is a sample text file.\\n\")\n",
        "    f.write(\"Each line represents an element in the dataset.\\n\")\n",
        "    f.write(\"We can apply various transformations to the data.\\n\")\n",
        "    f.write(\"This makes it easy to prepare data for training.\\n\")\n",
        "\n",
        "# Create a tf.data Dataset from the text file\n",
        "dataset = tf.data.TextLineDataset(\"sample.txt\")\n",
        "for elem in dataset:\n",
        "      print(elem.numpy())"
      ]
    },
    {
      "cell_type": "markdown",
      "metadata": {
        "id": "O5LoiPEW2V22"
      },
      "source": [
        "To preprocess the text data, we can apply a map function to the dataset. This allows us to perform arbitrary operations on each element."
      ]
    },
    {
      "cell_type": "code",
      "execution_count": null,
      "metadata": {
        "id": "ujFs1fnv2V22"
      },
      "outputs": [],
      "source": [
        "# Define a preprocessing function\n",
        "def preprocess_text(line):\n",
        "    line = tf.strings.lower(line)\n",
        "    line = tf.strings.strip(line)\n",
        "    return line\n",
        "\n",
        "# Apply the preprocessing function to the dataset\n",
        "dataset = dataset.map(preprocess_text)\n",
        "\n",
        "for elem in dataset:\n",
        "      print(elem.numpy())"
      ]
    },
    {
      "cell_type": "markdown",
      "metadata": {
        "id": "PKcQPg882V23"
      },
      "source": [
        "# Cat vs dog"
      ]
    },
    {
      "cell_type": "code",
      "execution_count": 4,
      "metadata": {
        "colab": {
          "base_uri": "https://localhost:8080/",
          "height": 168,
          "referenced_widgets": [
            "1c59b5d9d4cc44baa5404f2372298f16",
            "5016598b10244645958beb03059dec49",
            "1477b2a3501d4bbf8ec8319f6c3b71a9",
            "332ec8df64fd47b49606039f6a43d45f",
            "53d2c81d09fb4024a190d0e4e7c8b728",
            "191854cf7e5949fc81011804aaf66ca8",
            "2a19a90b47bf431da5b5acdd144cca46",
            "840b330c122c40e085f609fb12bf0127",
            "fcb3ffeedec7465b8e9ff50888ab36bb",
            "66de94dc5c7d4e70a1958f705d5a87f0",
            "de91f79d29054183b98864a737e15fa2",
            "736e3d0d27a1429f94ba0865203d18f8",
            "8284cdfab05c41ab83b61a241458f41a",
            "e86b9601b1e54005b461fee6fc9cf6bf",
            "c7c5d57474394d67bf23b8bcd6a0d584",
            "aebc43eb35204239a829d80d24cc1fd4",
            "26b1be784b204633a3a4a8fdeffde6b5",
            "26e5c5d81de042a2a4697d78b94a7256",
            "a2eecbe2ce974c2189ca32b09250d012",
            "33b060d2ed324ba596240df67201ab42",
            "703e5e97221a49b8950ccae8cf7b70cc",
            "65e0f0a5728f49c4a30d796ba8cf2271",
            "27647000fc334c50aaef7cfb83a3bd39",
            "d780490429cf4fedbd16502a9e601f34",
            "31af5427c5294e1ab298789decc94b55",
            "b53aaec5b2c94644a2c9a4e621723794",
            "8952d3eaea3e413c9f39c50b6aa4d8ec",
            "83aac6e16dc541fcbe86fe739a48fc97",
            "ea4ed7b1605d439db9b88d355cd159f7",
            "7941a05517794888b4e014dbae85478f",
            "a623df09f2b242d0b1590280d12f85e0",
            "054893b508824bf59db8cb5d6f7059fe",
            "c31b538171f74e04938453ae1da2d2ce",
            "66519c72b1664bdb9370559b343054e9",
            "74297af0062d4551b61a852f22dc8bd4",
            "1e9dc5eb8f7241089179ff16f8828c79",
            "030f914e011041fda02a265372c8482a",
            "daa8e6cf0d18412dbd7c730afd4ece03",
            "7ea8f22874cd4171b0f1a7ceb3746326",
            "ac953487d39d4b609daf9af8a23d00fe",
            "6d1da80651bc42b689f155807b9d799d",
            "854eb20957a14e478ab0e2164c48f550",
            "a933416427284975baa729325d25ff87",
            "ec073c22f01e4b22bcbef599cc2fb0ae",
            "8806ad198ddb4fc3b8886baa0f1be054",
            "0c09ee6ceb2d4b27bc4fb8904d37f55c",
            "d19e426d8cbc469bae4fe9fdcd0cb065",
            "3c1a3c70fd954ad4ba6e564b46f0f46e",
            "5e10621d2c0347578431c3d66cf750e4",
            "b089068a33b54682be6cd2da25cd87dc",
            "f61495dc575647d7a45b0229cbb5ce62",
            "d12686217ffc4f0baa1be03a3d14afee",
            "861285f727534027971484a4e9fa672c",
            "fd3285d1b6da4fe0bcf373cc73e105d3",
            "db9272f1c9ae49278eab56d1148eb6ee"
          ]
        },
        "id": "CpljkU2seGzT",
        "outputId": "02803933-a996-4c0b-c980-ca7ec2bb65f8"
      },
      "outputs": [
        {
          "output_type": "stream",
          "name": "stderr",
          "text": [
            "WARNING:absl:Variant folder /root/tensorflow_datasets/cats_vs_dogs/4.0.1 has no dataset_info.json\n"
          ]
        },
        {
          "output_type": "stream",
          "name": "stdout",
          "text": [
            "Downloading and preparing dataset Unknown size (download: Unknown size, generated: Unknown size, total: Unknown size) to /root/tensorflow_datasets/cats_vs_dogs/4.0.1...\n"
          ]
        },
        {
          "output_type": "display_data",
          "data": {
            "text/plain": [
              "Dl Completed...: 0 url [00:00, ? url/s]"
            ],
            "application/vnd.jupyter.widget-view+json": {
              "version_major": 2,
              "version_minor": 0,
              "model_id": "1c59b5d9d4cc44baa5404f2372298f16"
            }
          },
          "metadata": {}
        },
        {
          "output_type": "display_data",
          "data": {
            "text/plain": [
              "Dl Size...: 0 MiB [00:00, ? MiB/s]"
            ],
            "application/vnd.jupyter.widget-view+json": {
              "version_major": 2,
              "version_minor": 0,
              "model_id": "736e3d0d27a1429f94ba0865203d18f8"
            }
          },
          "metadata": {}
        },
        {
          "output_type": "display_data",
          "data": {
            "text/plain": [
              "Generating splits...:   0%|          | 0/1 [00:00<?, ? splits/s]"
            ],
            "application/vnd.jupyter.widget-view+json": {
              "version_major": 2,
              "version_minor": 0,
              "model_id": "27647000fc334c50aaef7cfb83a3bd39"
            }
          },
          "metadata": {}
        },
        {
          "output_type": "display_data",
          "data": {
            "text/plain": [
              "Generating train examples...: 0 examples [00:00, ? examples/s]"
            ],
            "application/vnd.jupyter.widget-view+json": {
              "version_major": 2,
              "version_minor": 0,
              "model_id": "66519c72b1664bdb9370559b343054e9"
            }
          },
          "metadata": {}
        },
        {
          "output_type": "stream",
          "name": "stderr",
          "text": [
            "WARNING:absl:1738 images were corrupted and were skipped\n"
          ]
        },
        {
          "output_type": "display_data",
          "data": {
            "text/plain": [
              "Shuffling /root/tensorflow_datasets/cats_vs_dogs/incomplete.ONNKFH_4.0.1/cats_vs_dogs-train.tfrecord*...:   0%…"
            ],
            "application/vnd.jupyter.widget-view+json": {
              "version_major": 2,
              "version_minor": 0,
              "model_id": "8806ad198ddb4fc3b8886baa0f1be054"
            }
          },
          "metadata": {}
        },
        {
          "output_type": "stream",
          "name": "stdout",
          "text": [
            "Dataset cats_vs_dogs downloaded and prepared to /root/tensorflow_datasets/cats_vs_dogs/4.0.1. Subsequent calls will reuse this data.\n",
            "number of images:23262\n"
          ]
        }
      ],
      "source": [
        "dataset, info = tfds.load('cats_vs_dogs', with_info=True, as_supervised=True)\n",
        "dataset = dataset['train']\n",
        "class_names = ['cat', 'dog']\n",
        "\n",
        "size = tf.data.experimental.cardinality(dataset).numpy() # CON LA FUNCION CARDINALITY PODEMOS VER EL NÚMERO DE ELEMENTOS QUE TIENE ESE DATASET: TENEMOS 23000 IMAGENES\n",
        "print(f'number of images:{size}') # ESTE DATASE CONTIENE IMAGENES Y SU CLASE (0,1). SIN EMBARGO CADA IMAGEN TIENE UN TAMAÑO DIFERENTE POR LO QUE VAMOS A TENER QUE APLICAR UNA FUNNCION\n",
        "\n",
        "\n",
        "# AL CARGAR EL DATASET SE NOS GENERA UN DATASET PRIMMERO DE ENTRENAMIENTO Y LUEGO DE TEST\n",
        "# UN DATASET ES UNA SECUENCIA QUE NOS DA TENSOR FLOW PARA PODER HACER PIPELINES CON LOS DATOS.\n",
        "#ES DECIR, ES UNA ESPECIE DE LISTA QUE NOS VA A PERMITIR HACER TRANSFORMACIONES, OPERAR CON DATOS COMO CUANDO POR EJEMPLO TENEMOS 10 MILLONES DE IMAGENES Y NO NOS CABEN EN MEMORIA\n",
        "# O IMAGENES QUE QUEREMOS ESTAR TRANSFORMANDO\n",
        "\n",
        "# NOSOTROS PARA AHORA VAMOS A TRATAR COMO SI FUERA SIMPLEMENTE UNA LISTA EN EL QUE SE PUEDEN HACER MODIFICACIONES."
      ]
    },
    {
      "cell_type": "markdown",
      "metadata": {
        "id": "HUfigIhzeGzU"
      },
      "source": [
        "We need all images to be the same size, we can use [`resize`](https://www.tensorflow.org/api_docs/python/tf/image/resize):\n",
        "\n",
        "```python\n",
        "tf.image.resize(\n",
        "    images, size, method=ResizeMethod.BILINEAR, preserve_aspect_ratio=False,\n",
        "    antialias=False, name=None\n",
        ")\n",
        "```\n",
        "NECESITAMOS QUE LAS REDES CONVOLUCIONES TENGAN EL MISMO TAMAÑO. VAMOS A USAR LA FUNCION RESIZE"
      ]
    },
    {
      "cell_type": "code",
      "execution_count": 5,
      "metadata": {
        "id": "P-HXP86oeGzV"
      },
      "outputs": [],
      "source": [
        "image_size = (96, 96, 3) # PONEMOS EL TAMAÑO DE LA IAMGEN. CUANTO MAS GRANDE MEJOR FUNCIONARÁ PERO MÁS MEMORIA CONSUMIRÁ Y MÁS GRANDES TENDRÁN QUE SER LOS MODELOS.\n",
        "\n",
        "\n",
        "def preprocess_img(images, size=(96, 96)):\n",
        "    return tf.image.resize(images, size)# VAMOS A PROCESAR LAS IMAGENES QUE TENGAMOS A EL TAMAÑO DADO\n",
        "\n",
        "dataset = dataset.map(lambda images, labels: (preprocess_img(images), labels)) # COGEMOS EL DATASET Y ACCEDEMOS A LOS ELEMENTOS DEL DATASET USANDO LA FUNCION MAP.\n",
        "# CADA ELEMENTO DE LA SECUENCIA DEL DATASET ES UNA TUPLA DE IMAGEN Y  LA CLASE (images, labels) POR LO QUE PREPROCESAMOS TODAS LAS IMAGENES PARA QUE TENGAN TODAS EL MISMO TAMAÑO"
      ]
    },
    {
      "cell_type": "markdown",
      "metadata": {
        "id": "6BsJAD-MeGzV"
      },
      "source": [
        "Split the dataset, you can use [different techniques](https://www.tensorflow.org/datasets/splits)"
      ]
    },
    {
      "cell_type": "code",
      "execution_count": null,
      "metadata": {
        "id": "QdQBZWhweGzW"
      },
      "outputs": [],
      "source": [
        "# AHORA HACEMOS UN SPLIT DEL DATASET EN TRAIN, VALIDATION Y TEST\n",
        "\n",
        "batch_size = 32\n",
        "train_size = int(0.75 * size)\n",
        "val_size = int(0.1 * size)\n",
        "\n",
        "train_ds = dataset.take(train_size) # CON LA FUNCION TAKE COGEMOS EL TAMAÑO DE TRAIN QUE QUEREMOS (EN ESTE CASO ES EL 75% DE NUESTRO DATASET)\n",
        "train_ds = train_ds.shuffle(1000).batch(batch_size).cache() # CON SHUFFLE LO BARAJAMOS Y CON CACHE LO GUARDAMOS EN RAM PARA QUE SEA TODO MAS RAPIDO\n",
        "remaining = dataset.skip(train_size) # LUEGO LE PONEMOS EL TAMAÑO DEL BATCH QUE QUERAMOS\n",
        "# TODAS ALS ANETRIORES OPERACIONES LAS HACEMOS SOBRE EL OBJETO DATASET\n",
        "\n",
        "\n",
        "# AHORA HACEMOS LO MISMO PARA VALIDATION Y PARA TEST Y LO GUARDAMOS\n",
        "val_ds = remaining.take(val_size)\n",
        "test_ds = remaining.skip(val_size)\n",
        "\n",
        "val_ds = val_ds.shuffle(1000).batch(batch_size).cache()\n",
        "test_ds = test_ds.batch(batch_size).cache()"
      ]
    },
    {
      "cell_type": "code",
      "execution_count": null,
      "metadata": {
        "id": "wnCcVzx5eGzW"
      },
      "outputs": [],
      "source": [
        "AUTOTUNE = tf.data.AUTOTUNE\n",
        "\n",
        "train_ds = train_ds.prefetch(buffer_size=AUTOTUNE)\n",
        "val_ds = val_ds.prefetch(buffer_size=AUTOTUNE)"
      ]
    },
    {
      "cell_type": "code",
      "execution_count": null,
      "metadata": {
        "id": "CHniUhfpeGzW"
      },
      "outputs": [],
      "source": [
        "plt.figure(figsize=(10, 10))\n",
        "for images, labels in train_ds.take(1): # PODEMOS ACCEDER A LOS ELEMENTOS DEL DATASET SIMPLEMENTE CON UN ITERADOR. PONEMOS TAKE 1 PARA SOLO ITERAR EN UNO. SI QUISIERAMOS ITERAR EN TODOS QUITARIAMOS TAKE(1)\n",
        "    for i in range(9):\n",
        "        ax = plt.subplot(3, 3, i + 1)\n",
        "        plt.imshow(images[i].numpy().astype(\"uint8\"))\n",
        "        plt.title(class_names[labels[i]])\n",
        "        plt.axis(\"off\")\n",
        "\n",
        "# ENTONCES AQUI VAMOS RECORRIENDO IMAGENES DE NUETSRO BATCH Y LAS VAMOS PINTANDO"
      ]
    },
    {
      "cell_type": "markdown",
      "metadata": {
        "id": "gnn5PKsP2V25"
      },
      "source": [
        "# CNN model\n",
        "\n",
        "PARA REPASAR COMO SE HACE UNA CONVOLUCIONAL PODMEOS VOLVER AL TUTORIAL DE COMO SE HACE:\n",
        "You can visit the tutorial [Introduction_to_CNN](https://github.com/ezponda/intro_deep_learning/blob/main/class/CNN/Introduction_to_CNN.ipynb)\n",
        "\n",
        "## CNN model in Keras\n",
        "\n",
        "\n",
        "\n",
        "<img src=\"https://i.ibb.co/D8CmT6K/cnn.jpg\" alt=\"cnn\" border=\"0\">\n",
        "\n",
        "\n",
        "\n",
        "A Convolutional Neural Network (CNN) architecture has four main parts:\n",
        "\n",
        "- A **convolutional layer** that extracts features from a source image.\n",
        "\n",
        "- A **pooling layer** that reduces the image dimensionality without losing important features or patterns.\n",
        "\n",
        "- A **flattening layer** that transforms a n-dimensional tensor into a vector that can be fed into a fully connected neural network.\n",
        "\n",
        "- A **fully connected layer** also known as the dense layer.\n",
        "\n",
        "### Rescaling\n",
        "\n",
        "For converting the images to   \\[0,1\\] range.\n",
        "```python\n",
        "normalization_layer = layers.Rescaling(1./255)\n",
        "next_layer = normalization_layer(prev_layer)\n",
        "```\n",
        "or simply\n",
        "```python\n",
        "reescaling = layers.Rescaling(1. / 255)(inputs)\n",
        "```\n",
        "\n",
        "### Convolutional layer\n",
        "\n",
        "In the convolutional layers (`Conv2D`) we will configure the following parameters:\n",
        "\n",
        "- **filters**: number of feature maps.\n",
        "- **kernel_size**: can be either an integer or a tuple of two integers. Specifies the height and width of the kernel.\n",
        "- **padding**: allows you to include padding in the input data. With 'valid' it is not applied, with 'same' it is configured so that the dimension at the output of the convolution is the same as at the input.\n",
        "- **activation**: activation function implemented. Recommended ReLU.\n",
        "\n",
        "[Link to documentation](https://keras.io/api/layers/convolution_layers/convolution2d/)\n",
        "\n",
        "```python\n",
        "tf.keras.layers.Conv2D(\n",
        "    filters, kernel_size, strides=(1, 1), padding='valid',\n",
        "    activation=None, kernel_regularizer=None)\n",
        "\n",
        "```\n",
        "\n",
        "With Functional API:\n",
        "```python\n",
        "next_layer = layers.Conv2D(filters=8, kernel_size=3, activation='relu', name='conv_1')(prev_layer)\n",
        "```\n",
        "\n",
        "With Sequential:\n",
        "```python\n",
        "model.add(layers.Conv2D(filters=8,kernel_size=3, activation='relu', name='conv_1'))\n",
        "```\n",
        "\n",
        "### Pooling layer\n",
        "\n",
        "A pooling layer is a new layer added after the convolutional layer. Specifically, after a nonlinearity ( ReLU) you can choose between [average pooling](https://www.tensorflow.org/api_docs/python/tf/keras/layers/AveragePooling2D) or [max pooling](https://www.tensorflow.org/api_docs/python/tf/keras/layers/MaxPool2D). Usually max pooling is the best choice.\n",
        "\n",
        "\n",
        "With Functional API:\n",
        "```python\n",
        "conv_1 = layers.Conv2D(filters=8, kernel_size=3, activation='relu', name='conv_1')(prev_layer)\n",
        "\n",
        "pool_1 = layers.MaxPool2D(pool_size=(2, 2), name='pool_1')(conv_1)\n",
        "```\n",
        "\n",
        "With Sequential:\n",
        "```python\n",
        "model.add(layers.AveragePooling2D(pool_size=(2, 2), name='pool_1'))\n",
        "```\n",
        "\n",
        "### Flattening\n",
        "\n",
        "Prepares a vector for the fully connected layers.\n",
        "\n",
        "With Functional API:\n",
        "\n",
        "```python\n",
        "next_layer = layers.Flatten(name='flatten')(prev_layer)\n",
        "```\n",
        "\n",
        "With Sequential:\n",
        "```python\n",
        "model.add(layers.Flatten(name='flatten'))\n",
        "```\n",
        "\n",
        "There is another alternative for flattening that is a type of pooling that is called global pooling. Global pooling down-samples the entire feature map to a single value.\n",
        "\n",
        "You can also choose between [GlobalAveragePooling2D](https://www.tensorflow.org/api_docs/python/tf/keras/layers/GlobalAveragePooling2D) and [GlobalMaxPooling2D](https://www.tensorflow.org/api_docs/python/tf/keras/layers/GlobalMaxPool2D).\n",
        "\n",
        "```python\n",
        "model.add(layers.GlobalMaxPool2D(name='GlobalMaxPooling2D'))\n",
        "```\n",
        "\n",
        "### Fully-connected layer\n",
        "\n",
        "Dense layer like a simple neural network"
      ]
    },
    {
      "cell_type": "markdown",
      "source": [
        "VAMOS A IR REPASANDO POCO A POCO COMO SE HARIA UNA RED CONVOLUCIONAL"
      ],
      "metadata": {
        "id": "CKrZ1Unt5qze"
      }
    },
    {
      "cell_type": "markdown",
      "metadata": {
        "id": "os9E78maeGzX"
      },
      "source": [
        "## Question 1: Create a model with two convolutional layers without pooling and without any regularization\n",
        "PRIMERO CREAMOS UN MODELO CON 2 CAPAS CONVOLUCIONALES SIN PULLING Y SIN NINGUN TIPO DE REGULARIZACION: LO CREAMOS, LO COMPILAMOS CON CALLBACK, LUEGO VEMOS EL ERROR EN TEST, EL TIEMPO QUE HA TARDADO Y POR ULTIMO LA FUNCION PARA VER LOS ERRORES SIEMPRE QUE ENTRENAMOS UN MODELO(VER DONDE ESTA FALLANDO)"
      ]
    },
    {
      "cell_type": "code",
      "execution_count": null,
      "metadata": {
        "id": "NdO4EeDWeGzX"
      },
      "outputs": [],
      "source": [
        "inputs = tf.keras.Input(shape=..., name='input')\n",
        "reescaling = ...(inputs)\n",
        "\n",
        "# Conv Layer 1\n",
        "conv_1 = layers.Conv2D(...)(reescaling)\n",
        "\n",
        "# Conv Layer 2\n",
        "conv_2 = ...\n",
        "\n",
        "\n",
        "# Fully-connected\n",
        "# Flattening\n",
        "flat = ...(conv_2)\n",
        "...\n",
        "outputs = layers.Dense(...)(...)\n",
        "\n",
        "model_1 = tf.keras.Model(inputs=inputs, outputs=outputs)"
      ]
    },
    {
      "cell_type": "code",
      "execution_count": null,
      "metadata": {
        "id": "shEsohu4eGzY"
      },
      "outputs": [],
      "source": [
        "model_1.compile(\n",
        "    optimizer='adam',\n",
        "    loss=tf.keras.losses.BinaryCrossentropy(),\n",
        "    metrics=['accuracy']\n",
        ")"
      ]
    },
    {
      "cell_type": "code",
      "execution_count": null,
      "metadata": {
        "id": "6ZQu8L9FeGzY"
      },
      "outputs": [],
      "source": [
        "epochs = 8\n",
        "\n",
        "es_callback = tf.keras.callbacks.EarlyStopping(\n",
        "    monitor='val_loss',\n",
        "    patience=2,\n",
        "    verbose=1)\n",
        "\n",
        "history = model_1.fit(\n",
        "    train_ds,\n",
        "    validation_data=val_ds,\n",
        "    epochs=epochs,\n",
        "    callbacks=...\n",
        ")"
      ]
    },
    {
      "cell_type": "code",
      "execution_count": null,
      "metadata": {
        "id": "2GdcLg1ueGzY"
      },
      "outputs": [],
      "source": [
        "results = model_1.evaluate(test_ds, verbose=1)\n",
        "print('Test Loss: {}'.format(results[0]))\n",
        "print('Test Accuracy: {}'.format(results[1]))"
      ]
    },
    {
      "cell_type": "code",
      "execution_count": null,
      "metadata": {
        "id": "ddszTEMXeGzZ"
      },
      "outputs": [],
      "source": [
        "def show_errors(val_ds, model, class_names, n_images=10):\n",
        "    n_plots = 0\n",
        "    for images, labels in val_ds:\n",
        "        pred_prob = model.predict(images)\n",
        "        preds = (1.0 * (pred_prob >= 0.5)).astype(np.int32).flatten()\n",
        "        bad_pred_inds = np.where(preds != labels)[0]\n",
        "        for ind in list(bad_pred_inds):\n",
        "            n_plots += 1\n",
        "            real_class = class_names[labels[ind].numpy()]\n",
        "            pred_class = class_names[preds[ind]]\n",
        "            prob = pred_prob[ind][0]\n",
        "            plt.imshow(images[ind].numpy().astype(\"uint8\"))\n",
        "            plt.title('Predicted: {0}, prob: {1:.2f} \\n real: {2}'.format(\n",
        "                pred_class, prob, real_class))\n",
        "            plt.axis('off')\n",
        "            plt.show()\n",
        "\n",
        "            if n_plots == n_images:\n",
        "                return\n",
        "    return\n",
        "\n",
        "\n",
        "show_errors(test_ds, model_1, class_names, n_images=10)"
      ]
    },
    {
      "cell_type": "markdown",
      "metadata": {
        "id": "1U9Rb52meGzZ"
      },
      "source": [
        "## Question 2: Introduce pooling to the previous model and obtain a better `test_accuracy`, Do not use any regularization\n",
        "LUEGO PARA IR MEJORANDO VAMOS A INTRODUCIR UN PULLING DESPUES DE CADA CAPA DE CONVOLUCION PARA OBTENER MEJOR ACCURACY SIN USAR NINGUN TIPO DE REGULARIZACION.\n",
        "VEMOS SOLO EL CAMBIO DE TIEMPO Y EL INCREMENTO DEL ACCURACY EN TEST.\n"
      ]
    },
    {
      "cell_type": "code",
      "execution_count": null,
      "metadata": {
        "id": "FFB6mSPleGzZ"
      },
      "outputs": [],
      "source": [
        "inputs = tf.keras.Input(shape=..., name='input')\n",
        "reescaling = ...(inputs)\n",
        "\n",
        "# Conv Layer 1 + pooling\n",
        "conv_1 = layers.Conv2D(...)(reescaling)\n",
        "\n",
        "# Conv Layer 2 + pooling\n",
        "conv_2 = ...\n",
        "\n",
        "\n",
        "# Fully-connected\n",
        "# Flattening\n",
        "flat = ...(conv_2)\n",
        "...\n",
        "outputs = layers.Dense(...)(...)\n",
        "\n",
        "model_2 = tf.keras.Model(inputs=inputs, outputs=outputs)"
      ]
    },
    {
      "cell_type": "code",
      "execution_count": null,
      "metadata": {
        "id": "LHmyPzpSeGza"
      },
      "outputs": [],
      "source": [
        "model_2.compile(\n",
        "    optimizer='adam',\n",
        "    loss=tf.keras.losses.BinaryCrossentropy(),\n",
        "    metrics=['accuracy']\n",
        ")\n",
        "\n",
        "epochs = 8\n",
        "\n",
        "es_callback = tf.keras.callbacks.EarlyStopping(\n",
        "    monitor='val_loss',\n",
        "    patience=2,\n",
        "    verbose=1)\n",
        "\n",
        "history = model_2.fit(\n",
        "    train_ds,\n",
        "    validation_data=val_ds,\n",
        "    epochs=epochs,\n",
        "    callbacks=...\n",
        ")"
      ]
    },
    {
      "cell_type": "code",
      "execution_count": null,
      "metadata": {
        "id": "m-cPzXS2eGzb"
      },
      "outputs": [],
      "source": [
        "results = model_2.evaluate(test_ds, verbose=1)\n",
        "print('Test Loss: {}'.format(results[0]))\n",
        "print('Test Accuracy: {}'.format(results[1]))"
      ]
    },
    {
      "cell_type": "code",
      "execution_count": null,
      "metadata": {
        "id": "mbWhsrsbeGzb"
      },
      "outputs": [],
      "source": [
        "show_errors(test_ds, model_2, class_names, n_images=10)"
      ]
    },
    {
      "cell_type": "markdown",
      "metadata": {
        "id": "k7s_yNBoeGzb"
      },
      "source": [
        "## Question 3: Introduce regularization (you can try data augmentation) and increase the number of layers to obtain a better `test_accuracy`. Try to obtain `Test Accuracy > 0.82`\n",
        "AQUI YA VAMOS A USAR CUALQUIER TIPO DE REGULARIZACION Y DE PULLING. TAMBIEN PODEMOS USAR DATA ARGUMENTATION (LO QUE SE ESTIME OPORTUNO PARA CONSEGUIR AL MENOS 0.8 DE ACCURACY EN TEST). PODMEOS VOLVER A LA INTRODUCCION A LAS CONVOLUCIONALES Y RECORDARLO\n"
      ]
    },
    {
      "cell_type": "code",
      "execution_count": null,
      "metadata": {
        "id": "b7crf8IheGzb"
      },
      "outputs": [],
      "source": [
        "data_augmentation = tf.keras.Sequential(\n",
        "  [\n",
        "    layers.RandomFlip(),\n",
        "    layers.RandomRotation(0.25),\n",
        "  ]\n",
        ")"
      ]
    },
    {
      "cell_type": "code",
      "execution_count": null,
      "metadata": {
        "id": "C-RS8OYieGzc"
      },
      "outputs": [],
      "source": [
        "inputs = tf.keras.Input(shape=..., name='input')\n",
        "reescaling = ...(inputs)\n",
        "\n",
        "# Conv Layer 1\n",
        "conv_1 = layers.Conv2D(...)(reescaling)\n",
        "\n",
        "# Conv Layer 2\n",
        "conv_2 = ...\n",
        "\n",
        "# Conv Layer ...\n",
        "\n",
        "\n",
        "# Fully-connected\n",
        "# Flattening\n",
        "flat = ...\n",
        "...\n",
        "outputs = layers.Dense(...)(...)\n",
        "\n",
        "model_3 = tf.keras.Model(inputs=inputs, outputs=outputs)"
      ]
    },
    {
      "cell_type": "code",
      "execution_count": null,
      "metadata": {
        "id": "oEUl7FLmeGzc"
      },
      "outputs": [],
      "source": [
        "model_3.compile(\n",
        "    optimizer='adam',\n",
        "    loss=tf.keras.losses.BinaryCrossentropy(),\n",
        "    metrics=['accuracy']\n",
        ")\n",
        "\n",
        "epochs = 8\n",
        "\n",
        "es_callback = tf.keras.callbacks.EarlyStopping(\n",
        "    monitor='val_loss',\n",
        "    patience=2,\n",
        "    verbose=1)\n",
        "\n",
        "history = model_3.fit(\n",
        "    train_ds,\n",
        "    validation_data=val_ds,\n",
        "    epochs=epochs,\n",
        "    callbacks=...\n",
        ")"
      ]
    },
    {
      "cell_type": "code",
      "execution_count": null,
      "metadata": {
        "id": "bVRhbjwceGzc"
      },
      "outputs": [],
      "source": [
        "results = model_3.evaluate(test_ds, verbose=1)\n",
        "print('Test Loss: {}'.format(results[0]))\n",
        "print('Test Accuracy: {}'.format(results[1]))"
      ]
    },
    {
      "cell_type": "code",
      "execution_count": null,
      "metadata": {
        "id": "BqVSj6xieGzd"
      },
      "outputs": [],
      "source": [
        "show_errors(test_ds, model_3, class_names, n_images=10)"
      ]
    },
    {
      "cell_type": "markdown",
      "metadata": {
        "id": "_XLmuZMf2V3V"
      },
      "source": [
        "## Question 3.1 (Optional): Tune a CNN Architecture with Keras Tuner\n",
        "\n",
        "[Keras Tuner tutorial](https://github.com/ezponda/intro_deep_learning/blob/main/class/Fundamentals/Regression_tuner.ipynb) :\n",
        "\n",
        "Hyperparameters are of two types:\n",
        "1. **Model hyperparameters** like number of units, type of activation or number hidden layers.\n",
        "2. **Algorithm hyperparameters** like the learning rate in adam.\n",
        "\n",
        "The model-building function takes an argument `hp` from which you can sample hyper-parameters.\n",
        "\n",
        "```python\n",
        "def build_model(hp):\n",
        "    ...\n",
        "    return model\n",
        "\n",
        "```\n",
        "\n",
        "- `hp.Int` to sample an integer from a certain range:\n",
        "```python\n",
        "hp.Int('units', min_value=32, max_value=256, step=32, default=64)\n",
        "```\n",
        "- `hp.Float` to sample a float number from a certain range:\n",
        "```python\n",
        "hp.Float('dropout', min_value=0.0, max_value=0.1, default=0.005, step=0.05)\n",
        "```\n",
        "- `hp.Choice` to select values in a list:\n",
        "```python\n",
        "hp.Choice('learning_rate', [1e-2, 1e-3, 1e-4])\n",
        "```\n",
        "- [list of hyperparameter methods](https://keras-team.github.io/keras-tuner/documentation/hyperparameters/)"
      ]
    },
    {
      "cell_type": "code",
      "execution_count": null,
      "metadata": {
        "id": "nwFaaBLB2V3W"
      },
      "outputs": [],
      "source": [
        "# !pip install -U keras-tuner"
      ]
    },
    {
      "cell_type": "code",
      "execution_count": null,
      "metadata": {
        "id": "OZdFVMfB2V3W"
      },
      "outputs": [],
      "source": [
        "import kerastuner as kt"
      ]
    },
    {
      "cell_type": "code",
      "execution_count": null,
      "metadata": {
        "id": "YVzxsda82V3W"
      },
      "outputs": [],
      "source": [
        "def build_cnn_model(hp):\n",
        "    \"\"\"Build a CNN model with tunable architecture and dropout regularization using Functional API.\"\"\"\n",
        "    inputs = keras.Input(shape=image_size)\n",
        "\n",
        "    # Start the model flow with the inputs\n",
        "    x = layers.Rescaling(1. / 255)(inputs)\n",
        "\n",
        "    # Tune the number of convolutional blocks (try 1-3 blocks)\n",
        "    for i in range(hp.Int('num_conv_blocks', min_value=1, max_value=3)):\n",
        "        # Tune the number of filters in each Conv2D layer\n",
        "        x = layers.Conv2D(\n",
        "            filters=hp.Int(f'filters_{i}', min_value=16, max_value=128, step=16),\n",
        "            kernel_size=hp.Choice(f'kernel_size_{i}', values=[3, 5]),\n",
        "            activation='relu',\n",
        "            padding='same'\n",
        "        )(x)\n",
        "\n",
        "        # Add dropout after the Conv2D layer\n",
        "        x = layers.Dropout(\n",
        "            hp.Float(f'conv_dropout_{i}', min_value=0.0, max_value=0.5, step=0.1)\n",
        "        )(x)\n",
        "\n",
        "        # Add pooling layer\n",
        "        x = layers.MaxPooling2D(pool_size=(2, 2))(x)\n",
        "\n",
        "    # Flatten layer before dense layers\n",
        "    x = layers.Flatten()(x)\n",
        "\n",
        "    x = layers.Dense(\n",
        "        units=hp.Int('dense_units', min_value=32, max_value=128, step=32),\n",
        "        activation='relu'\n",
        "    )(x)\n",
        "\n",
        "    x = layers.Dropout(\n",
        "        hp.Float('dense_dropout', min_value=0.0, max_value=0.5, step=0.1)\n",
        "    )(x)\n",
        "    outputs = layers.Dense(1, activation='sigmoid')(x)\n",
        "\n",
        "    model = keras.Model(inputs=inputs, outputs=outputs)\n",
        "\n",
        "    # Compile the model\n",
        "    model.compile(\n",
        "        optimizer='adam',\n",
        "        loss='binary_crossentropy',\n",
        "        metrics=['accuracy']\n",
        "    )\n",
        "\n",
        "    return model"
      ]
    },
    {
      "cell_type": "code",
      "execution_count": null,
      "metadata": {
        "id": "oeP8WDqt2V3X"
      },
      "outputs": [],
      "source": [
        "tuner = kt.RandomSearch(build_cnn_model,\n",
        "                     objective='val_loss',\n",
        "                     max_trials=2,\n",
        "                     directory='my_dir',\n",
        "                     project_name='intro_to_kt')\n",
        "\n",
        "# Early stopping callback\n",
        "es_callback = tf.keras.callbacks.EarlyStopping(\n",
        "    monitor='val_loss',\n",
        "    patience=5,\n",
        "    restore_best_weights=True\n",
        ")\n",
        "\n",
        "# Start the search\n",
        "tuner.search(\n",
        "    train_ds,  # Use your TensorFlow dataset\n",
        "    validation_data=val_ds,\n",
        "    epochs=10,\n",
        "    callbacks=[es_callback]\n",
        ")\n",
        "\n",
        "# Get the best hyperparameters\n",
        "best_hps = tuner.get_best_hyperparameters(num_trials=1)[0]"
      ]
    },
    {
      "cell_type": "code",
      "execution_count": null,
      "metadata": {
        "id": "F4S0pMKa2V3X"
      },
      "outputs": [],
      "source": [
        "# Print the optimal architecture\n",
        "print(f\"Best number of convolutional blocks: {best_hps.get('num_conv_blocks')}\")\n",
        "for i in range(best_hps.get('num_conv_blocks')):\n",
        "    print(f\"Conv block {i+1}:\")\n",
        "    print(f\"  - Filters: {best_hps.get(f'filters_{i}')}\")\n",
        "    print(f\"  - Kernel size: {best_hps.get(f'kernel_size_{i}')}\")\n",
        "    print(f\"  - Dropout rate: {best_hps.get(f'conv_dropout_{i}')}\")\n",
        "\n",
        "print(f\"Dense layer units: {best_hps.get('dense_units')}\")\n",
        "print(f\"Dense layer dropout: {best_hps.get('dense_dropout')}\")"
      ]
    },
    {
      "cell_type": "code",
      "execution_count": null,
      "metadata": {
        "id": "-iFKf0xO2V3X"
      },
      "outputs": [],
      "source": [
        "# Build the model with the best hyperparameters\n",
        "best_model = tuner.hypermodel.build(best_hps)\n",
        "best_model.summary()"
      ]
    },
    {
      "cell_type": "code",
      "execution_count": null,
      "metadata": {
        "id": "_P6rqSL42V3Y"
      },
      "outputs": [],
      "source": [
        "\n",
        "# Train the model\n",
        "history = best_model.fit(\n",
        "    train_ds,\n",
        "    validation_data=val_ds,\n",
        "    epochs=25,\n",
        "    callbacks=[es_callback]\n",
        ")\n",
        "\n",
        "# Evaluate on test dataset\n",
        "test_loss, test_accuracy = best_model.evaluate(test_ds)\n",
        "print(f\"Test accuracy: {test_accuracy:.4f}\")"
      ]
    },
    {
      "cell_type": "markdown",
      "metadata": {
        "id": "3fVV15W3eGzd"
      },
      "source": [
        "## Question 4: Try transfer learning\n",
        "POR ULTIMO USAMOS LA TECNICA DE TRANSFER LEARNING O FINE TUNNING (COMO CREAMOS OPORTUNO).\n",
        "ENTONCES PODEMOS ELEGIR LA RED QUE QUERAMOS CON EL PREPROCESADO (FINE TUNNING O TRANSFER LEARNING), CREAMOS EL MODELO Y VEMOS COMO MEJORA EL FUNICONAMIENTO"
      ]
    },
    {
      "cell_type": "code",
      "execution_count": null,
      "metadata": {
        "id": "l3IQloZXeGzd"
      },
      "outputs": [],
      "source": [
        "pretrained_model = tf.keras.applications.MobileNetV2(input_shape=image_size,\n",
        "                                                     include_top=False)\n",
        "pretrained_model.trainable = ..."
      ]
    },
    {
      "cell_type": "code",
      "execution_count": null,
      "metadata": {
        "id": "RCLm_hBGeGzd"
      },
      "outputs": [],
      "source": [
        "preprocess_input = tf.keras.applications.mobilenet_v2.preprocess_input"
      ]
    },
    {
      "cell_type": "code",
      "execution_count": null,
      "metadata": {
        "id": "rjxajIYceGzd"
      },
      "outputs": [],
      "source": [
        "inputs = tf.keras.Input(shape=image_size, name='input')\n",
        "\n",
        "# pre-trained model\n",
        "... = preprocess_input(...)\n",
        "... = pretrained_model(..)\n",
        "\n",
        "# classifier\n",
        "flat = tf.keras.layers.Flatten()(...)\n",
        "outputs = ...\n",
        "\n",
        "model_tl = tf.keras.Model(inputs, outputs)\n",
        "model_tl.summary()"
      ]
    },
    {
      "cell_type": "code",
      "execution_count": null,
      "metadata": {
        "id": "-IKakf7heGze"
      },
      "outputs": [],
      "source": [
        "model_tl.compile(\n",
        "    optimizer='adam',\n",
        "    loss=tf.keras.losses.BinaryCrossentropy(),\n",
        "    metrics=['accuracy']\n",
        ")\n",
        "\n",
        "epochs = 2\n",
        "\n",
        "es_callback = tf.keras.callbacks.EarlyStopping(\n",
        "    monitor='val_loss',\n",
        "    patience=2,\n",
        "    verbose=1)\n",
        "\n",
        "history = model_tl.fit(\n",
        "    train_ds,\n",
        "    validation_data=val_ds,\n",
        "    epochs=epochs,\n",
        "    callbacks=...\n",
        ")"
      ]
    },
    {
      "cell_type": "code",
      "execution_count": null,
      "metadata": {
        "id": "rj6g177WeGze"
      },
      "outputs": [],
      "source": [
        "results = model_tl.evaluate(test_ds, verbose=1)\n",
        "print('Test Loss: {}'.format(results[0]))\n",
        "print('Test Accuracy: {}'.format(results[1]))"
      ]
    },
    {
      "cell_type": "code",
      "execution_count": null,
      "metadata": {
        "id": "xJvi9oS9eGze"
      },
      "outputs": [],
      "source": [
        "show_errors(test_ds, model_tl, class_names, n_images=10)"
      ]
    },
    {
      "cell_type": "markdown",
      "metadata": {
        "id": "61S2aJJYeGzf"
      },
      "source": [
        "# Generalization\n",
        "LUEGO PARA GENERALIZAR LO QUE VAMOS A HACER ES DESCARGARNOS IMAGENES. BUSCAMOS EN GOOGLE CUUARLQUIER URL.\n",
        "CABE RECORDAR QUE CON LA FUNICON DE KERAS get_file NO SOBREESCRIBE POR LO QUE UNA VEZ QUE DESCARGUEMOS UNA IMAGEN, SI QUEREMOS COGER OTRA TENDREMOS QUE CAMBAI REL NOMBRE PORQUE SI NO SEGUIRIA SIENDO LA MISMA.\n",
        "LUEGO IRIAMOS VIENDO COMO HA FUNCIONADO CADA UNO DE LOS MODELOS AL PROBARLO CON IMAGENES DIFERENTS."
      ]
    },
    {
      "cell_type": "code",
      "execution_count": null,
      "metadata": {
        "id": "Q2SOYs-9eGzf"
      },
      "outputs": [],
      "source": [
        "def read_image(image_path, target_size=None):\n",
        "    image = tf.keras.preprocessing.image.load_img(image_path,\n",
        "                target_size=target_size)\n",
        "    image = tf.keras.preprocessing.image.img_to_array(image)\n",
        "    image = image.astype(np.uint8)\n",
        "    return image\n",
        "\n",
        "def predict_plot(image_path, model, class_names, image_size):\n",
        "    image = read_image(image_path, image_size[:2])\n",
        "    prob = model.predict(np.expand_dims(image, 0))[0][0]\n",
        "    pred_class = class_names[(1.0 * (prob >= 0.5)).astype(np.int32)]\n",
        "    plt.imshow(image)\n",
        "    plt.title(\n",
        "        'Predicted: {0}, prob: {1:.2f}'\n",
        "        .format(pred_class, prob))\n",
        "    plt.axis('off')\n",
        "    plt.show()"
      ]
    },
    {
      "cell_type": "code",
      "execution_count": null,
      "metadata": {
        "id": "YmKbvB5BeGzf"
      },
      "outputs": [],
      "source": [
        "url = 'https://assets.sainsburys-groceries.co.uk/gol/6754229/1/640x640.jpg'\n",
        "image_path = tf.keras.utils.get_file(\"dog_vs_cat_1.jpg\", url)\n",
        "print('model 1')\n",
        "predict_plot(image_path, model_1, class_names, image_size)\n",
        "print('model 2')\n",
        "predict_plot(image_path, model_2, class_names, image_size)\n",
        "print('model 3')\n",
        "predict_plot(image_path, model_3, class_names, image_size)\n",
        "print('model tl')\n",
        "predict_plot(image_path, model_tl, class_names, image_size)"
      ]
    },
    {
      "cell_type": "code",
      "execution_count": null,
      "metadata": {
        "id": "B4G4AWB0eGzf"
      },
      "outputs": [],
      "source": [
        "url = 'https://i.ytimg.com/vi/3dcli9i_pvA/hqdefault.jpg'\n",
        "image_path = tf.keras.utils.get_file(\"dog_vs_cat_2.jpg\", url)\n",
        "print('model 1')\n",
        "predict_plot(image_path, model_1, class_names, image_size)\n",
        "print('model 2')\n",
        "predict_plot(image_path, model_2, class_names, image_size)\n",
        "print('model 3')\n",
        "predict_plot(image_path, model_3, class_names, image_size)\n",
        "print('model tl')\n",
        "predict_plot(image_path, model_tl, class_names, image_size)"
      ]
    },
    {
      "cell_type": "code",
      "execution_count": null,
      "metadata": {
        "id": "fijCROyseGzg"
      },
      "outputs": [],
      "source": [
        "url = 'https://thumbs.dreamstime.com/b/halloween-ghost-portrait-funny-dog-black-background-adorable-pup-muzle-153863580.jpg'\n",
        "image_path = tf.keras.utils.get_file(\"dog_vs_cat_3.jpg\", url)\n",
        "print('model 1')\n",
        "predict_plot(image_path, model_1, class_names, image_size)\n",
        "print('model 2')\n",
        "predict_plot(image_path, model_2, class_names, image_size)\n",
        "print('model 3')\n",
        "predict_plot(image_path, model_3, class_names, image_size)\n",
        "print('model tl')\n",
        "predict_plot(image_path, model_tl, class_names, image_size)"
      ]
    }
  ],
  "metadata": {
    "colab": {
      "name": "cat_vs_dogs.ipynb",
      "provenance": []
    },
    "kernelspec": {
      "display_name": "Python 3",
      "name": "python3"
    },
    "language_info": {
      "codemirror_mode": {
        "name": "ipython",
        "version": 3
      },
      "file_extension": ".py",
      "mimetype": "text/x-python",
      "name": "python",
      "nbconvert_exporter": "python",
      "pygments_lexer": "ipython3",
      "version": "3.11.10"
    },
    "latex_envs": {
      "LaTeX_envs_menu_present": true,
      "autoclose": false,
      "autocomplete": true,
      "bibliofile": "biblio.bib",
      "cite_by": "apalike",
      "current_citInitial": 1,
      "eqLabelWithNumbers": true,
      "eqNumInitial": 1,
      "hotkeys": {
        "equation": "Ctrl-E",
        "itemize": "Ctrl-I"
      },
      "labels_anchors": false,
      "latex_user_defs": false,
      "report_style_numbering": false,
      "user_envs_cfg": false
    },
    "toc": {
      "base_numbering": 1,
      "nav_menu": {},
      "number_sections": true,
      "sideBar": true,
      "skip_h1_title": false,
      "title_cell": "Table of Contents",
      "title_sidebar": "Contents",
      "toc_cell": false,
      "toc_position": {},
      "toc_section_display": true,
      "toc_window_display": false
    },
    "widgets": {
      "application/vnd.jupyter.widget-state+json": {
        "1c59b5d9d4cc44baa5404f2372298f16": {
          "model_module": "@jupyter-widgets/controls",
          "model_name": "HBoxModel",
          "model_module_version": "1.5.0",
          "state": {
            "_dom_classes": [],
            "_model_module": "@jupyter-widgets/controls",
            "_model_module_version": "1.5.0",
            "_model_name": "HBoxModel",
            "_view_count": null,
            "_view_module": "@jupyter-widgets/controls",
            "_view_module_version": "1.5.0",
            "_view_name": "HBoxView",
            "box_style": "",
            "children": [
              "IPY_MODEL_5016598b10244645958beb03059dec49",
              "IPY_MODEL_1477b2a3501d4bbf8ec8319f6c3b71a9",
              "IPY_MODEL_332ec8df64fd47b49606039f6a43d45f"
            ],
            "layout": "IPY_MODEL_53d2c81d09fb4024a190d0e4e7c8b728"
          }
        },
        "5016598b10244645958beb03059dec49": {
          "model_module": "@jupyter-widgets/controls",
          "model_name": "HTMLModel",
          "model_module_version": "1.5.0",
          "state": {
            "_dom_classes": [],
            "_model_module": "@jupyter-widgets/controls",
            "_model_module_version": "1.5.0",
            "_model_name": "HTMLModel",
            "_view_count": null,
            "_view_module": "@jupyter-widgets/controls",
            "_view_module_version": "1.5.0",
            "_view_name": "HTMLView",
            "description": "",
            "description_tooltip": null,
            "layout": "IPY_MODEL_191854cf7e5949fc81011804aaf66ca8",
            "placeholder": "​",
            "style": "IPY_MODEL_2a19a90b47bf431da5b5acdd144cca46",
            "value": "Dl Completed...: 100%"
          }
        },
        "1477b2a3501d4bbf8ec8319f6c3b71a9": {
          "model_module": "@jupyter-widgets/controls",
          "model_name": "FloatProgressModel",
          "model_module_version": "1.5.0",
          "state": {
            "_dom_classes": [],
            "_model_module": "@jupyter-widgets/controls",
            "_model_module_version": "1.5.0",
            "_model_name": "FloatProgressModel",
            "_view_count": null,
            "_view_module": "@jupyter-widgets/controls",
            "_view_module_version": "1.5.0",
            "_view_name": "ProgressView",
            "bar_style": "success",
            "description": "",
            "description_tooltip": null,
            "layout": "IPY_MODEL_840b330c122c40e085f609fb12bf0127",
            "max": 1,
            "min": 0,
            "orientation": "horizontal",
            "style": "IPY_MODEL_fcb3ffeedec7465b8e9ff50888ab36bb",
            "value": 1
          }
        },
        "332ec8df64fd47b49606039f6a43d45f": {
          "model_module": "@jupyter-widgets/controls",
          "model_name": "HTMLModel",
          "model_module_version": "1.5.0",
          "state": {
            "_dom_classes": [],
            "_model_module": "@jupyter-widgets/controls",
            "_model_module_version": "1.5.0",
            "_model_name": "HTMLModel",
            "_view_count": null,
            "_view_module": "@jupyter-widgets/controls",
            "_view_module_version": "1.5.0",
            "_view_name": "HTMLView",
            "description": "",
            "description_tooltip": null,
            "layout": "IPY_MODEL_66de94dc5c7d4e70a1958f705d5a87f0",
            "placeholder": "​",
            "style": "IPY_MODEL_de91f79d29054183b98864a737e15fa2",
            "value": " 1/1 [00:13&lt;00:00, 13.08s/ url]"
          }
        },
        "53d2c81d09fb4024a190d0e4e7c8b728": {
          "model_module": "@jupyter-widgets/base",
          "model_name": "LayoutModel",
          "model_module_version": "1.2.0",
          "state": {
            "_model_module": "@jupyter-widgets/base",
            "_model_module_version": "1.2.0",
            "_model_name": "LayoutModel",
            "_view_count": null,
            "_view_module": "@jupyter-widgets/base",
            "_view_module_version": "1.2.0",
            "_view_name": "LayoutView",
            "align_content": null,
            "align_items": null,
            "align_self": null,
            "border": null,
            "bottom": null,
            "display": null,
            "flex": null,
            "flex_flow": null,
            "grid_area": null,
            "grid_auto_columns": null,
            "grid_auto_flow": null,
            "grid_auto_rows": null,
            "grid_column": null,
            "grid_gap": null,
            "grid_row": null,
            "grid_template_areas": null,
            "grid_template_columns": null,
            "grid_template_rows": null,
            "height": null,
            "justify_content": null,
            "justify_items": null,
            "left": null,
            "margin": null,
            "max_height": null,
            "max_width": null,
            "min_height": null,
            "min_width": null,
            "object_fit": null,
            "object_position": null,
            "order": null,
            "overflow": null,
            "overflow_x": null,
            "overflow_y": null,
            "padding": null,
            "right": null,
            "top": null,
            "visibility": null,
            "width": null
          }
        },
        "191854cf7e5949fc81011804aaf66ca8": {
          "model_module": "@jupyter-widgets/base",
          "model_name": "LayoutModel",
          "model_module_version": "1.2.0",
          "state": {
            "_model_module": "@jupyter-widgets/base",
            "_model_module_version": "1.2.0",
            "_model_name": "LayoutModel",
            "_view_count": null,
            "_view_module": "@jupyter-widgets/base",
            "_view_module_version": "1.2.0",
            "_view_name": "LayoutView",
            "align_content": null,
            "align_items": null,
            "align_self": null,
            "border": null,
            "bottom": null,
            "display": null,
            "flex": null,
            "flex_flow": null,
            "grid_area": null,
            "grid_auto_columns": null,
            "grid_auto_flow": null,
            "grid_auto_rows": null,
            "grid_column": null,
            "grid_gap": null,
            "grid_row": null,
            "grid_template_areas": null,
            "grid_template_columns": null,
            "grid_template_rows": null,
            "height": null,
            "justify_content": null,
            "justify_items": null,
            "left": null,
            "margin": null,
            "max_height": null,
            "max_width": null,
            "min_height": null,
            "min_width": null,
            "object_fit": null,
            "object_position": null,
            "order": null,
            "overflow": null,
            "overflow_x": null,
            "overflow_y": null,
            "padding": null,
            "right": null,
            "top": null,
            "visibility": null,
            "width": null
          }
        },
        "2a19a90b47bf431da5b5acdd144cca46": {
          "model_module": "@jupyter-widgets/controls",
          "model_name": "DescriptionStyleModel",
          "model_module_version": "1.5.0",
          "state": {
            "_model_module": "@jupyter-widgets/controls",
            "_model_module_version": "1.5.0",
            "_model_name": "DescriptionStyleModel",
            "_view_count": null,
            "_view_module": "@jupyter-widgets/base",
            "_view_module_version": "1.2.0",
            "_view_name": "StyleView",
            "description_width": ""
          }
        },
        "840b330c122c40e085f609fb12bf0127": {
          "model_module": "@jupyter-widgets/base",
          "model_name": "LayoutModel",
          "model_module_version": "1.2.0",
          "state": {
            "_model_module": "@jupyter-widgets/base",
            "_model_module_version": "1.2.0",
            "_model_name": "LayoutModel",
            "_view_count": null,
            "_view_module": "@jupyter-widgets/base",
            "_view_module_version": "1.2.0",
            "_view_name": "LayoutView",
            "align_content": null,
            "align_items": null,
            "align_self": null,
            "border": null,
            "bottom": null,
            "display": null,
            "flex": null,
            "flex_flow": null,
            "grid_area": null,
            "grid_auto_columns": null,
            "grid_auto_flow": null,
            "grid_auto_rows": null,
            "grid_column": null,
            "grid_gap": null,
            "grid_row": null,
            "grid_template_areas": null,
            "grid_template_columns": null,
            "grid_template_rows": null,
            "height": null,
            "justify_content": null,
            "justify_items": null,
            "left": null,
            "margin": null,
            "max_height": null,
            "max_width": null,
            "min_height": null,
            "min_width": null,
            "object_fit": null,
            "object_position": null,
            "order": null,
            "overflow": null,
            "overflow_x": null,
            "overflow_y": null,
            "padding": null,
            "right": null,
            "top": null,
            "visibility": null,
            "width": "20px"
          }
        },
        "fcb3ffeedec7465b8e9ff50888ab36bb": {
          "model_module": "@jupyter-widgets/controls",
          "model_name": "ProgressStyleModel",
          "model_module_version": "1.5.0",
          "state": {
            "_model_module": "@jupyter-widgets/controls",
            "_model_module_version": "1.5.0",
            "_model_name": "ProgressStyleModel",
            "_view_count": null,
            "_view_module": "@jupyter-widgets/base",
            "_view_module_version": "1.2.0",
            "_view_name": "StyleView",
            "bar_color": null,
            "description_width": ""
          }
        },
        "66de94dc5c7d4e70a1958f705d5a87f0": {
          "model_module": "@jupyter-widgets/base",
          "model_name": "LayoutModel",
          "model_module_version": "1.2.0",
          "state": {
            "_model_module": "@jupyter-widgets/base",
            "_model_module_version": "1.2.0",
            "_model_name": "LayoutModel",
            "_view_count": null,
            "_view_module": "@jupyter-widgets/base",
            "_view_module_version": "1.2.0",
            "_view_name": "LayoutView",
            "align_content": null,
            "align_items": null,
            "align_self": null,
            "border": null,
            "bottom": null,
            "display": null,
            "flex": null,
            "flex_flow": null,
            "grid_area": null,
            "grid_auto_columns": null,
            "grid_auto_flow": null,
            "grid_auto_rows": null,
            "grid_column": null,
            "grid_gap": null,
            "grid_row": null,
            "grid_template_areas": null,
            "grid_template_columns": null,
            "grid_template_rows": null,
            "height": null,
            "justify_content": null,
            "justify_items": null,
            "left": null,
            "margin": null,
            "max_height": null,
            "max_width": null,
            "min_height": null,
            "min_width": null,
            "object_fit": null,
            "object_position": null,
            "order": null,
            "overflow": null,
            "overflow_x": null,
            "overflow_y": null,
            "padding": null,
            "right": null,
            "top": null,
            "visibility": null,
            "width": null
          }
        },
        "de91f79d29054183b98864a737e15fa2": {
          "model_module": "@jupyter-widgets/controls",
          "model_name": "DescriptionStyleModel",
          "model_module_version": "1.5.0",
          "state": {
            "_model_module": "@jupyter-widgets/controls",
            "_model_module_version": "1.5.0",
            "_model_name": "DescriptionStyleModel",
            "_view_count": null,
            "_view_module": "@jupyter-widgets/base",
            "_view_module_version": "1.2.0",
            "_view_name": "StyleView",
            "description_width": ""
          }
        },
        "736e3d0d27a1429f94ba0865203d18f8": {
          "model_module": "@jupyter-widgets/controls",
          "model_name": "HBoxModel",
          "model_module_version": "1.5.0",
          "state": {
            "_dom_classes": [],
            "_model_module": "@jupyter-widgets/controls",
            "_model_module_version": "1.5.0",
            "_model_name": "HBoxModel",
            "_view_count": null,
            "_view_module": "@jupyter-widgets/controls",
            "_view_module_version": "1.5.0",
            "_view_name": "HBoxView",
            "box_style": "",
            "children": [
              "IPY_MODEL_8284cdfab05c41ab83b61a241458f41a",
              "IPY_MODEL_e86b9601b1e54005b461fee6fc9cf6bf",
              "IPY_MODEL_c7c5d57474394d67bf23b8bcd6a0d584"
            ],
            "layout": "IPY_MODEL_aebc43eb35204239a829d80d24cc1fd4"
          }
        },
        "8284cdfab05c41ab83b61a241458f41a": {
          "model_module": "@jupyter-widgets/controls",
          "model_name": "HTMLModel",
          "model_module_version": "1.5.0",
          "state": {
            "_dom_classes": [],
            "_model_module": "@jupyter-widgets/controls",
            "_model_module_version": "1.5.0",
            "_model_name": "HTMLModel",
            "_view_count": null,
            "_view_module": "@jupyter-widgets/controls",
            "_view_module_version": "1.5.0",
            "_view_name": "HTMLView",
            "description": "",
            "description_tooltip": null,
            "layout": "IPY_MODEL_26b1be784b204633a3a4a8fdeffde6b5",
            "placeholder": "​",
            "style": "IPY_MODEL_26e5c5d81de042a2a4697d78b94a7256",
            "value": "Dl Size...: 100%"
          }
        },
        "e86b9601b1e54005b461fee6fc9cf6bf": {
          "model_module": "@jupyter-widgets/controls",
          "model_name": "FloatProgressModel",
          "model_module_version": "1.5.0",
          "state": {
            "_dom_classes": [],
            "_model_module": "@jupyter-widgets/controls",
            "_model_module_version": "1.5.0",
            "_model_name": "FloatProgressModel",
            "_view_count": null,
            "_view_module": "@jupyter-widgets/controls",
            "_view_module_version": "1.5.0",
            "_view_name": "ProgressView",
            "bar_style": "success",
            "description": "",
            "description_tooltip": null,
            "layout": "IPY_MODEL_a2eecbe2ce974c2189ca32b09250d012",
            "max": 1,
            "min": 0,
            "orientation": "horizontal",
            "style": "IPY_MODEL_33b060d2ed324ba596240df67201ab42",
            "value": 1
          }
        },
        "c7c5d57474394d67bf23b8bcd6a0d584": {
          "model_module": "@jupyter-widgets/controls",
          "model_name": "HTMLModel",
          "model_module_version": "1.5.0",
          "state": {
            "_dom_classes": [],
            "_model_module": "@jupyter-widgets/controls",
            "_model_module_version": "1.5.0",
            "_model_name": "HTMLModel",
            "_view_count": null,
            "_view_module": "@jupyter-widgets/controls",
            "_view_module_version": "1.5.0",
            "_view_name": "HTMLView",
            "description": "",
            "description_tooltip": null,
            "layout": "IPY_MODEL_703e5e97221a49b8950ccae8cf7b70cc",
            "placeholder": "​",
            "style": "IPY_MODEL_65e0f0a5728f49c4a30d796ba8cf2271",
            "value": " 786/786 [00:13&lt;00:00, 75.43 MiB/s]"
          }
        },
        "aebc43eb35204239a829d80d24cc1fd4": {
          "model_module": "@jupyter-widgets/base",
          "model_name": "LayoutModel",
          "model_module_version": "1.2.0",
          "state": {
            "_model_module": "@jupyter-widgets/base",
            "_model_module_version": "1.2.0",
            "_model_name": "LayoutModel",
            "_view_count": null,
            "_view_module": "@jupyter-widgets/base",
            "_view_module_version": "1.2.0",
            "_view_name": "LayoutView",
            "align_content": null,
            "align_items": null,
            "align_self": null,
            "border": null,
            "bottom": null,
            "display": null,
            "flex": null,
            "flex_flow": null,
            "grid_area": null,
            "grid_auto_columns": null,
            "grid_auto_flow": null,
            "grid_auto_rows": null,
            "grid_column": null,
            "grid_gap": null,
            "grid_row": null,
            "grid_template_areas": null,
            "grid_template_columns": null,
            "grid_template_rows": null,
            "height": null,
            "justify_content": null,
            "justify_items": null,
            "left": null,
            "margin": null,
            "max_height": null,
            "max_width": null,
            "min_height": null,
            "min_width": null,
            "object_fit": null,
            "object_position": null,
            "order": null,
            "overflow": null,
            "overflow_x": null,
            "overflow_y": null,
            "padding": null,
            "right": null,
            "top": null,
            "visibility": null,
            "width": null
          }
        },
        "26b1be784b204633a3a4a8fdeffde6b5": {
          "model_module": "@jupyter-widgets/base",
          "model_name": "LayoutModel",
          "model_module_version": "1.2.0",
          "state": {
            "_model_module": "@jupyter-widgets/base",
            "_model_module_version": "1.2.0",
            "_model_name": "LayoutModel",
            "_view_count": null,
            "_view_module": "@jupyter-widgets/base",
            "_view_module_version": "1.2.0",
            "_view_name": "LayoutView",
            "align_content": null,
            "align_items": null,
            "align_self": null,
            "border": null,
            "bottom": null,
            "display": null,
            "flex": null,
            "flex_flow": null,
            "grid_area": null,
            "grid_auto_columns": null,
            "grid_auto_flow": null,
            "grid_auto_rows": null,
            "grid_column": null,
            "grid_gap": null,
            "grid_row": null,
            "grid_template_areas": null,
            "grid_template_columns": null,
            "grid_template_rows": null,
            "height": null,
            "justify_content": null,
            "justify_items": null,
            "left": null,
            "margin": null,
            "max_height": null,
            "max_width": null,
            "min_height": null,
            "min_width": null,
            "object_fit": null,
            "object_position": null,
            "order": null,
            "overflow": null,
            "overflow_x": null,
            "overflow_y": null,
            "padding": null,
            "right": null,
            "top": null,
            "visibility": null,
            "width": null
          }
        },
        "26e5c5d81de042a2a4697d78b94a7256": {
          "model_module": "@jupyter-widgets/controls",
          "model_name": "DescriptionStyleModel",
          "model_module_version": "1.5.0",
          "state": {
            "_model_module": "@jupyter-widgets/controls",
            "_model_module_version": "1.5.0",
            "_model_name": "DescriptionStyleModel",
            "_view_count": null,
            "_view_module": "@jupyter-widgets/base",
            "_view_module_version": "1.2.0",
            "_view_name": "StyleView",
            "description_width": ""
          }
        },
        "a2eecbe2ce974c2189ca32b09250d012": {
          "model_module": "@jupyter-widgets/base",
          "model_name": "LayoutModel",
          "model_module_version": "1.2.0",
          "state": {
            "_model_module": "@jupyter-widgets/base",
            "_model_module_version": "1.2.0",
            "_model_name": "LayoutModel",
            "_view_count": null,
            "_view_module": "@jupyter-widgets/base",
            "_view_module_version": "1.2.0",
            "_view_name": "LayoutView",
            "align_content": null,
            "align_items": null,
            "align_self": null,
            "border": null,
            "bottom": null,
            "display": null,
            "flex": null,
            "flex_flow": null,
            "grid_area": null,
            "grid_auto_columns": null,
            "grid_auto_flow": null,
            "grid_auto_rows": null,
            "grid_column": null,
            "grid_gap": null,
            "grid_row": null,
            "grid_template_areas": null,
            "grid_template_columns": null,
            "grid_template_rows": null,
            "height": null,
            "justify_content": null,
            "justify_items": null,
            "left": null,
            "margin": null,
            "max_height": null,
            "max_width": null,
            "min_height": null,
            "min_width": null,
            "object_fit": null,
            "object_position": null,
            "order": null,
            "overflow": null,
            "overflow_x": null,
            "overflow_y": null,
            "padding": null,
            "right": null,
            "top": null,
            "visibility": null,
            "width": "20px"
          }
        },
        "33b060d2ed324ba596240df67201ab42": {
          "model_module": "@jupyter-widgets/controls",
          "model_name": "ProgressStyleModel",
          "model_module_version": "1.5.0",
          "state": {
            "_model_module": "@jupyter-widgets/controls",
            "_model_module_version": "1.5.0",
            "_model_name": "ProgressStyleModel",
            "_view_count": null,
            "_view_module": "@jupyter-widgets/base",
            "_view_module_version": "1.2.0",
            "_view_name": "StyleView",
            "bar_color": null,
            "description_width": ""
          }
        },
        "703e5e97221a49b8950ccae8cf7b70cc": {
          "model_module": "@jupyter-widgets/base",
          "model_name": "LayoutModel",
          "model_module_version": "1.2.0",
          "state": {
            "_model_module": "@jupyter-widgets/base",
            "_model_module_version": "1.2.0",
            "_model_name": "LayoutModel",
            "_view_count": null,
            "_view_module": "@jupyter-widgets/base",
            "_view_module_version": "1.2.0",
            "_view_name": "LayoutView",
            "align_content": null,
            "align_items": null,
            "align_self": null,
            "border": null,
            "bottom": null,
            "display": null,
            "flex": null,
            "flex_flow": null,
            "grid_area": null,
            "grid_auto_columns": null,
            "grid_auto_flow": null,
            "grid_auto_rows": null,
            "grid_column": null,
            "grid_gap": null,
            "grid_row": null,
            "grid_template_areas": null,
            "grid_template_columns": null,
            "grid_template_rows": null,
            "height": null,
            "justify_content": null,
            "justify_items": null,
            "left": null,
            "margin": null,
            "max_height": null,
            "max_width": null,
            "min_height": null,
            "min_width": null,
            "object_fit": null,
            "object_position": null,
            "order": null,
            "overflow": null,
            "overflow_x": null,
            "overflow_y": null,
            "padding": null,
            "right": null,
            "top": null,
            "visibility": null,
            "width": null
          }
        },
        "65e0f0a5728f49c4a30d796ba8cf2271": {
          "model_module": "@jupyter-widgets/controls",
          "model_name": "DescriptionStyleModel",
          "model_module_version": "1.5.0",
          "state": {
            "_model_module": "@jupyter-widgets/controls",
            "_model_module_version": "1.5.0",
            "_model_name": "DescriptionStyleModel",
            "_view_count": null,
            "_view_module": "@jupyter-widgets/base",
            "_view_module_version": "1.2.0",
            "_view_name": "StyleView",
            "description_width": ""
          }
        },
        "27647000fc334c50aaef7cfb83a3bd39": {
          "model_module": "@jupyter-widgets/controls",
          "model_name": "HBoxModel",
          "model_module_version": "1.5.0",
          "state": {
            "_dom_classes": [],
            "_model_module": "@jupyter-widgets/controls",
            "_model_module_version": "1.5.0",
            "_model_name": "HBoxModel",
            "_view_count": null,
            "_view_module": "@jupyter-widgets/controls",
            "_view_module_version": "1.5.0",
            "_view_name": "HBoxView",
            "box_style": "",
            "children": [
              "IPY_MODEL_d780490429cf4fedbd16502a9e601f34",
              "IPY_MODEL_31af5427c5294e1ab298789decc94b55",
              "IPY_MODEL_b53aaec5b2c94644a2c9a4e621723794"
            ],
            "layout": "IPY_MODEL_8952d3eaea3e413c9f39c50b6aa4d8ec"
          }
        },
        "d780490429cf4fedbd16502a9e601f34": {
          "model_module": "@jupyter-widgets/controls",
          "model_name": "HTMLModel",
          "model_module_version": "1.5.0",
          "state": {
            "_dom_classes": [],
            "_model_module": "@jupyter-widgets/controls",
            "_model_module_version": "1.5.0",
            "_model_name": "HTMLModel",
            "_view_count": null,
            "_view_module": "@jupyter-widgets/controls",
            "_view_module_version": "1.5.0",
            "_view_name": "HTMLView",
            "description": "",
            "description_tooltip": null,
            "layout": "IPY_MODEL_83aac6e16dc541fcbe86fe739a48fc97",
            "placeholder": "​",
            "style": "IPY_MODEL_ea4ed7b1605d439db9b88d355cd159f7",
            "value": "Generating splits...: 100%"
          }
        },
        "31af5427c5294e1ab298789decc94b55": {
          "model_module": "@jupyter-widgets/controls",
          "model_name": "FloatProgressModel",
          "model_module_version": "1.5.0",
          "state": {
            "_dom_classes": [],
            "_model_module": "@jupyter-widgets/controls",
            "_model_module_version": "1.5.0",
            "_model_name": "FloatProgressModel",
            "_view_count": null,
            "_view_module": "@jupyter-widgets/controls",
            "_view_module_version": "1.5.0",
            "_view_name": "ProgressView",
            "bar_style": "",
            "description": "",
            "description_tooltip": null,
            "layout": "IPY_MODEL_7941a05517794888b4e014dbae85478f",
            "max": 1,
            "min": 0,
            "orientation": "horizontal",
            "style": "IPY_MODEL_a623df09f2b242d0b1590280d12f85e0",
            "value": 1
          }
        },
        "b53aaec5b2c94644a2c9a4e621723794": {
          "model_module": "@jupyter-widgets/controls",
          "model_name": "HTMLModel",
          "model_module_version": "1.5.0",
          "state": {
            "_dom_classes": [],
            "_model_module": "@jupyter-widgets/controls",
            "_model_module_version": "1.5.0",
            "_model_name": "HTMLModel",
            "_view_count": null,
            "_view_module": "@jupyter-widgets/controls",
            "_view_module_version": "1.5.0",
            "_view_name": "HTMLView",
            "description": "",
            "description_tooltip": null,
            "layout": "IPY_MODEL_054893b508824bf59db8cb5d6f7059fe",
            "placeholder": "​",
            "style": "IPY_MODEL_c31b538171f74e04938453ae1da2d2ce",
            "value": " 1/1 [01:21&lt;00:00, 81.37s/ splits]"
          }
        },
        "8952d3eaea3e413c9f39c50b6aa4d8ec": {
          "model_module": "@jupyter-widgets/base",
          "model_name": "LayoutModel",
          "model_module_version": "1.2.0",
          "state": {
            "_model_module": "@jupyter-widgets/base",
            "_model_module_version": "1.2.0",
            "_model_name": "LayoutModel",
            "_view_count": null,
            "_view_module": "@jupyter-widgets/base",
            "_view_module_version": "1.2.0",
            "_view_name": "LayoutView",
            "align_content": null,
            "align_items": null,
            "align_self": null,
            "border": null,
            "bottom": null,
            "display": null,
            "flex": null,
            "flex_flow": null,
            "grid_area": null,
            "grid_auto_columns": null,
            "grid_auto_flow": null,
            "grid_auto_rows": null,
            "grid_column": null,
            "grid_gap": null,
            "grid_row": null,
            "grid_template_areas": null,
            "grid_template_columns": null,
            "grid_template_rows": null,
            "height": null,
            "justify_content": null,
            "justify_items": null,
            "left": null,
            "margin": null,
            "max_height": null,
            "max_width": null,
            "min_height": null,
            "min_width": null,
            "object_fit": null,
            "object_position": null,
            "order": null,
            "overflow": null,
            "overflow_x": null,
            "overflow_y": null,
            "padding": null,
            "right": null,
            "top": null,
            "visibility": "hidden",
            "width": null
          }
        },
        "83aac6e16dc541fcbe86fe739a48fc97": {
          "model_module": "@jupyter-widgets/base",
          "model_name": "LayoutModel",
          "model_module_version": "1.2.0",
          "state": {
            "_model_module": "@jupyter-widgets/base",
            "_model_module_version": "1.2.0",
            "_model_name": "LayoutModel",
            "_view_count": null,
            "_view_module": "@jupyter-widgets/base",
            "_view_module_version": "1.2.0",
            "_view_name": "LayoutView",
            "align_content": null,
            "align_items": null,
            "align_self": null,
            "border": null,
            "bottom": null,
            "display": null,
            "flex": null,
            "flex_flow": null,
            "grid_area": null,
            "grid_auto_columns": null,
            "grid_auto_flow": null,
            "grid_auto_rows": null,
            "grid_column": null,
            "grid_gap": null,
            "grid_row": null,
            "grid_template_areas": null,
            "grid_template_columns": null,
            "grid_template_rows": null,
            "height": null,
            "justify_content": null,
            "justify_items": null,
            "left": null,
            "margin": null,
            "max_height": null,
            "max_width": null,
            "min_height": null,
            "min_width": null,
            "object_fit": null,
            "object_position": null,
            "order": null,
            "overflow": null,
            "overflow_x": null,
            "overflow_y": null,
            "padding": null,
            "right": null,
            "top": null,
            "visibility": null,
            "width": null
          }
        },
        "ea4ed7b1605d439db9b88d355cd159f7": {
          "model_module": "@jupyter-widgets/controls",
          "model_name": "DescriptionStyleModel",
          "model_module_version": "1.5.0",
          "state": {
            "_model_module": "@jupyter-widgets/controls",
            "_model_module_version": "1.5.0",
            "_model_name": "DescriptionStyleModel",
            "_view_count": null,
            "_view_module": "@jupyter-widgets/base",
            "_view_module_version": "1.2.0",
            "_view_name": "StyleView",
            "description_width": ""
          }
        },
        "7941a05517794888b4e014dbae85478f": {
          "model_module": "@jupyter-widgets/base",
          "model_name": "LayoutModel",
          "model_module_version": "1.2.0",
          "state": {
            "_model_module": "@jupyter-widgets/base",
            "_model_module_version": "1.2.0",
            "_model_name": "LayoutModel",
            "_view_count": null,
            "_view_module": "@jupyter-widgets/base",
            "_view_module_version": "1.2.0",
            "_view_name": "LayoutView",
            "align_content": null,
            "align_items": null,
            "align_self": null,
            "border": null,
            "bottom": null,
            "display": null,
            "flex": null,
            "flex_flow": null,
            "grid_area": null,
            "grid_auto_columns": null,
            "grid_auto_flow": null,
            "grid_auto_rows": null,
            "grid_column": null,
            "grid_gap": null,
            "grid_row": null,
            "grid_template_areas": null,
            "grid_template_columns": null,
            "grid_template_rows": null,
            "height": null,
            "justify_content": null,
            "justify_items": null,
            "left": null,
            "margin": null,
            "max_height": null,
            "max_width": null,
            "min_height": null,
            "min_width": null,
            "object_fit": null,
            "object_position": null,
            "order": null,
            "overflow": null,
            "overflow_x": null,
            "overflow_y": null,
            "padding": null,
            "right": null,
            "top": null,
            "visibility": null,
            "width": null
          }
        },
        "a623df09f2b242d0b1590280d12f85e0": {
          "model_module": "@jupyter-widgets/controls",
          "model_name": "ProgressStyleModel",
          "model_module_version": "1.5.0",
          "state": {
            "_model_module": "@jupyter-widgets/controls",
            "_model_module_version": "1.5.0",
            "_model_name": "ProgressStyleModel",
            "_view_count": null,
            "_view_module": "@jupyter-widgets/base",
            "_view_module_version": "1.2.0",
            "_view_name": "StyleView",
            "bar_color": null,
            "description_width": ""
          }
        },
        "054893b508824bf59db8cb5d6f7059fe": {
          "model_module": "@jupyter-widgets/base",
          "model_name": "LayoutModel",
          "model_module_version": "1.2.0",
          "state": {
            "_model_module": "@jupyter-widgets/base",
            "_model_module_version": "1.2.0",
            "_model_name": "LayoutModel",
            "_view_count": null,
            "_view_module": "@jupyter-widgets/base",
            "_view_module_version": "1.2.0",
            "_view_name": "LayoutView",
            "align_content": null,
            "align_items": null,
            "align_self": null,
            "border": null,
            "bottom": null,
            "display": null,
            "flex": null,
            "flex_flow": null,
            "grid_area": null,
            "grid_auto_columns": null,
            "grid_auto_flow": null,
            "grid_auto_rows": null,
            "grid_column": null,
            "grid_gap": null,
            "grid_row": null,
            "grid_template_areas": null,
            "grid_template_columns": null,
            "grid_template_rows": null,
            "height": null,
            "justify_content": null,
            "justify_items": null,
            "left": null,
            "margin": null,
            "max_height": null,
            "max_width": null,
            "min_height": null,
            "min_width": null,
            "object_fit": null,
            "object_position": null,
            "order": null,
            "overflow": null,
            "overflow_x": null,
            "overflow_y": null,
            "padding": null,
            "right": null,
            "top": null,
            "visibility": null,
            "width": null
          }
        },
        "c31b538171f74e04938453ae1da2d2ce": {
          "model_module": "@jupyter-widgets/controls",
          "model_name": "DescriptionStyleModel",
          "model_module_version": "1.5.0",
          "state": {
            "_model_module": "@jupyter-widgets/controls",
            "_model_module_version": "1.5.0",
            "_model_name": "DescriptionStyleModel",
            "_view_count": null,
            "_view_module": "@jupyter-widgets/base",
            "_view_module_version": "1.2.0",
            "_view_name": "StyleView",
            "description_width": ""
          }
        },
        "66519c72b1664bdb9370559b343054e9": {
          "model_module": "@jupyter-widgets/controls",
          "model_name": "HBoxModel",
          "model_module_version": "1.5.0",
          "state": {
            "_dom_classes": [],
            "_model_module": "@jupyter-widgets/controls",
            "_model_module_version": "1.5.0",
            "_model_name": "HBoxModel",
            "_view_count": null,
            "_view_module": "@jupyter-widgets/controls",
            "_view_module_version": "1.5.0",
            "_view_name": "HBoxView",
            "box_style": "",
            "children": [
              "IPY_MODEL_74297af0062d4551b61a852f22dc8bd4",
              "IPY_MODEL_1e9dc5eb8f7241089179ff16f8828c79",
              "IPY_MODEL_030f914e011041fda02a265372c8482a"
            ],
            "layout": "IPY_MODEL_daa8e6cf0d18412dbd7c730afd4ece03"
          }
        },
        "74297af0062d4551b61a852f22dc8bd4": {
          "model_module": "@jupyter-widgets/controls",
          "model_name": "HTMLModel",
          "model_module_version": "1.5.0",
          "state": {
            "_dom_classes": [],
            "_model_module": "@jupyter-widgets/controls",
            "_model_module_version": "1.5.0",
            "_model_name": "HTMLModel",
            "_view_count": null,
            "_view_module": "@jupyter-widgets/controls",
            "_view_module_version": "1.5.0",
            "_view_name": "HTMLView",
            "description": "",
            "description_tooltip": null,
            "layout": "IPY_MODEL_7ea8f22874cd4171b0f1a7ceb3746326",
            "placeholder": "​",
            "style": "IPY_MODEL_ac953487d39d4b609daf9af8a23d00fe",
            "value": "Generating train examples...: "
          }
        },
        "1e9dc5eb8f7241089179ff16f8828c79": {
          "model_module": "@jupyter-widgets/controls",
          "model_name": "FloatProgressModel",
          "model_module_version": "1.5.0",
          "state": {
            "_dom_classes": [],
            "_model_module": "@jupyter-widgets/controls",
            "_model_module_version": "1.5.0",
            "_model_name": "FloatProgressModel",
            "_view_count": null,
            "_view_module": "@jupyter-widgets/controls",
            "_view_module_version": "1.5.0",
            "_view_name": "ProgressView",
            "bar_style": "info",
            "description": "",
            "description_tooltip": null,
            "layout": "IPY_MODEL_6d1da80651bc42b689f155807b9d799d",
            "max": 1,
            "min": 0,
            "orientation": "horizontal",
            "style": "IPY_MODEL_854eb20957a14e478ab0e2164c48f550",
            "value": 1
          }
        },
        "030f914e011041fda02a265372c8482a": {
          "model_module": "@jupyter-widgets/controls",
          "model_name": "HTMLModel",
          "model_module_version": "1.5.0",
          "state": {
            "_dom_classes": [],
            "_model_module": "@jupyter-widgets/controls",
            "_model_module_version": "1.5.0",
            "_model_name": "HTMLModel",
            "_view_count": null,
            "_view_module": "@jupyter-widgets/controls",
            "_view_module_version": "1.5.0",
            "_view_name": "HTMLView",
            "description": "",
            "description_tooltip": null,
            "layout": "IPY_MODEL_a933416427284975baa729325d25ff87",
            "placeholder": "​",
            "style": "IPY_MODEL_ec073c22f01e4b22bcbef599cc2fb0ae",
            "value": " 23068/? [01:16&lt;00:00, 229.34 examples/s]"
          }
        },
        "daa8e6cf0d18412dbd7c730afd4ece03": {
          "model_module": "@jupyter-widgets/base",
          "model_name": "LayoutModel",
          "model_module_version": "1.2.0",
          "state": {
            "_model_module": "@jupyter-widgets/base",
            "_model_module_version": "1.2.0",
            "_model_name": "LayoutModel",
            "_view_count": null,
            "_view_module": "@jupyter-widgets/base",
            "_view_module_version": "1.2.0",
            "_view_name": "LayoutView",
            "align_content": null,
            "align_items": null,
            "align_self": null,
            "border": null,
            "bottom": null,
            "display": null,
            "flex": null,
            "flex_flow": null,
            "grid_area": null,
            "grid_auto_columns": null,
            "grid_auto_flow": null,
            "grid_auto_rows": null,
            "grid_column": null,
            "grid_gap": null,
            "grid_row": null,
            "grid_template_areas": null,
            "grid_template_columns": null,
            "grid_template_rows": null,
            "height": null,
            "justify_content": null,
            "justify_items": null,
            "left": null,
            "margin": null,
            "max_height": null,
            "max_width": null,
            "min_height": null,
            "min_width": null,
            "object_fit": null,
            "object_position": null,
            "order": null,
            "overflow": null,
            "overflow_x": null,
            "overflow_y": null,
            "padding": null,
            "right": null,
            "top": null,
            "visibility": "hidden",
            "width": null
          }
        },
        "7ea8f22874cd4171b0f1a7ceb3746326": {
          "model_module": "@jupyter-widgets/base",
          "model_name": "LayoutModel",
          "model_module_version": "1.2.0",
          "state": {
            "_model_module": "@jupyter-widgets/base",
            "_model_module_version": "1.2.0",
            "_model_name": "LayoutModel",
            "_view_count": null,
            "_view_module": "@jupyter-widgets/base",
            "_view_module_version": "1.2.0",
            "_view_name": "LayoutView",
            "align_content": null,
            "align_items": null,
            "align_self": null,
            "border": null,
            "bottom": null,
            "display": null,
            "flex": null,
            "flex_flow": null,
            "grid_area": null,
            "grid_auto_columns": null,
            "grid_auto_flow": null,
            "grid_auto_rows": null,
            "grid_column": null,
            "grid_gap": null,
            "grid_row": null,
            "grid_template_areas": null,
            "grid_template_columns": null,
            "grid_template_rows": null,
            "height": null,
            "justify_content": null,
            "justify_items": null,
            "left": null,
            "margin": null,
            "max_height": null,
            "max_width": null,
            "min_height": null,
            "min_width": null,
            "object_fit": null,
            "object_position": null,
            "order": null,
            "overflow": null,
            "overflow_x": null,
            "overflow_y": null,
            "padding": null,
            "right": null,
            "top": null,
            "visibility": null,
            "width": null
          }
        },
        "ac953487d39d4b609daf9af8a23d00fe": {
          "model_module": "@jupyter-widgets/controls",
          "model_name": "DescriptionStyleModel",
          "model_module_version": "1.5.0",
          "state": {
            "_model_module": "@jupyter-widgets/controls",
            "_model_module_version": "1.5.0",
            "_model_name": "DescriptionStyleModel",
            "_view_count": null,
            "_view_module": "@jupyter-widgets/base",
            "_view_module_version": "1.2.0",
            "_view_name": "StyleView",
            "description_width": ""
          }
        },
        "6d1da80651bc42b689f155807b9d799d": {
          "model_module": "@jupyter-widgets/base",
          "model_name": "LayoutModel",
          "model_module_version": "1.2.0",
          "state": {
            "_model_module": "@jupyter-widgets/base",
            "_model_module_version": "1.2.0",
            "_model_name": "LayoutModel",
            "_view_count": null,
            "_view_module": "@jupyter-widgets/base",
            "_view_module_version": "1.2.0",
            "_view_name": "LayoutView",
            "align_content": null,
            "align_items": null,
            "align_self": null,
            "border": null,
            "bottom": null,
            "display": null,
            "flex": null,
            "flex_flow": null,
            "grid_area": null,
            "grid_auto_columns": null,
            "grid_auto_flow": null,
            "grid_auto_rows": null,
            "grid_column": null,
            "grid_gap": null,
            "grid_row": null,
            "grid_template_areas": null,
            "grid_template_columns": null,
            "grid_template_rows": null,
            "height": null,
            "justify_content": null,
            "justify_items": null,
            "left": null,
            "margin": null,
            "max_height": null,
            "max_width": null,
            "min_height": null,
            "min_width": null,
            "object_fit": null,
            "object_position": null,
            "order": null,
            "overflow": null,
            "overflow_x": null,
            "overflow_y": null,
            "padding": null,
            "right": null,
            "top": null,
            "visibility": null,
            "width": "20px"
          }
        },
        "854eb20957a14e478ab0e2164c48f550": {
          "model_module": "@jupyter-widgets/controls",
          "model_name": "ProgressStyleModel",
          "model_module_version": "1.5.0",
          "state": {
            "_model_module": "@jupyter-widgets/controls",
            "_model_module_version": "1.5.0",
            "_model_name": "ProgressStyleModel",
            "_view_count": null,
            "_view_module": "@jupyter-widgets/base",
            "_view_module_version": "1.2.0",
            "_view_name": "StyleView",
            "bar_color": null,
            "description_width": ""
          }
        },
        "a933416427284975baa729325d25ff87": {
          "model_module": "@jupyter-widgets/base",
          "model_name": "LayoutModel",
          "model_module_version": "1.2.0",
          "state": {
            "_model_module": "@jupyter-widgets/base",
            "_model_module_version": "1.2.0",
            "_model_name": "LayoutModel",
            "_view_count": null,
            "_view_module": "@jupyter-widgets/base",
            "_view_module_version": "1.2.0",
            "_view_name": "LayoutView",
            "align_content": null,
            "align_items": null,
            "align_self": null,
            "border": null,
            "bottom": null,
            "display": null,
            "flex": null,
            "flex_flow": null,
            "grid_area": null,
            "grid_auto_columns": null,
            "grid_auto_flow": null,
            "grid_auto_rows": null,
            "grid_column": null,
            "grid_gap": null,
            "grid_row": null,
            "grid_template_areas": null,
            "grid_template_columns": null,
            "grid_template_rows": null,
            "height": null,
            "justify_content": null,
            "justify_items": null,
            "left": null,
            "margin": null,
            "max_height": null,
            "max_width": null,
            "min_height": null,
            "min_width": null,
            "object_fit": null,
            "object_position": null,
            "order": null,
            "overflow": null,
            "overflow_x": null,
            "overflow_y": null,
            "padding": null,
            "right": null,
            "top": null,
            "visibility": null,
            "width": null
          }
        },
        "ec073c22f01e4b22bcbef599cc2fb0ae": {
          "model_module": "@jupyter-widgets/controls",
          "model_name": "DescriptionStyleModel",
          "model_module_version": "1.5.0",
          "state": {
            "_model_module": "@jupyter-widgets/controls",
            "_model_module_version": "1.5.0",
            "_model_name": "DescriptionStyleModel",
            "_view_count": null,
            "_view_module": "@jupyter-widgets/base",
            "_view_module_version": "1.2.0",
            "_view_name": "StyleView",
            "description_width": ""
          }
        },
        "8806ad198ddb4fc3b8886baa0f1be054": {
          "model_module": "@jupyter-widgets/controls",
          "model_name": "HBoxModel",
          "model_module_version": "1.5.0",
          "state": {
            "_dom_classes": [],
            "_model_module": "@jupyter-widgets/controls",
            "_model_module_version": "1.5.0",
            "_model_name": "HBoxModel",
            "_view_count": null,
            "_view_module": "@jupyter-widgets/controls",
            "_view_module_version": "1.5.0",
            "_view_name": "HBoxView",
            "box_style": "",
            "children": [
              "IPY_MODEL_0c09ee6ceb2d4b27bc4fb8904d37f55c",
              "IPY_MODEL_d19e426d8cbc469bae4fe9fdcd0cb065",
              "IPY_MODEL_3c1a3c70fd954ad4ba6e564b46f0f46e"
            ],
            "layout": "IPY_MODEL_5e10621d2c0347578431c3d66cf750e4"
          }
        },
        "0c09ee6ceb2d4b27bc4fb8904d37f55c": {
          "model_module": "@jupyter-widgets/controls",
          "model_name": "HTMLModel",
          "model_module_version": "1.5.0",
          "state": {
            "_dom_classes": [],
            "_model_module": "@jupyter-widgets/controls",
            "_model_module_version": "1.5.0",
            "_model_name": "HTMLModel",
            "_view_count": null,
            "_view_module": "@jupyter-widgets/controls",
            "_view_module_version": "1.5.0",
            "_view_name": "HTMLView",
            "description": "",
            "description_tooltip": null,
            "layout": "IPY_MODEL_b089068a33b54682be6cd2da25cd87dc",
            "placeholder": "​",
            "style": "IPY_MODEL_f61495dc575647d7a45b0229cbb5ce62",
            "value": "Shuffling /root/tensorflow_datasets/cats_vs_dogs/incomplete.ONNKFH_4.0.1/cats_vs_dogs-train.tfrecord*...:  94%"
          }
        },
        "d19e426d8cbc469bae4fe9fdcd0cb065": {
          "model_module": "@jupyter-widgets/controls",
          "model_name": "FloatProgressModel",
          "model_module_version": "1.5.0",
          "state": {
            "_dom_classes": [],
            "_model_module": "@jupyter-widgets/controls",
            "_model_module_version": "1.5.0",
            "_model_name": "FloatProgressModel",
            "_view_count": null,
            "_view_module": "@jupyter-widgets/controls",
            "_view_module_version": "1.5.0",
            "_view_name": "ProgressView",
            "bar_style": "",
            "description": "",
            "description_tooltip": null,
            "layout": "IPY_MODEL_d12686217ffc4f0baa1be03a3d14afee",
            "max": 23262,
            "min": 0,
            "orientation": "horizontal",
            "style": "IPY_MODEL_861285f727534027971484a4e9fa672c",
            "value": 23262
          }
        },
        "3c1a3c70fd954ad4ba6e564b46f0f46e": {
          "model_module": "@jupyter-widgets/controls",
          "model_name": "HTMLModel",
          "model_module_version": "1.5.0",
          "state": {
            "_dom_classes": [],
            "_model_module": "@jupyter-widgets/controls",
            "_model_module_version": "1.5.0",
            "_model_name": "HTMLModel",
            "_view_count": null,
            "_view_module": "@jupyter-widgets/controls",
            "_view_module_version": "1.5.0",
            "_view_name": "HTMLView",
            "description": "",
            "description_tooltip": null,
            "layout": "IPY_MODEL_fd3285d1b6da4fe0bcf373cc73e105d3",
            "placeholder": "​",
            "style": "IPY_MODEL_db9272f1c9ae49278eab56d1148eb6ee",
            "value": " 21964/23262 [00:04&lt;00:00, 4988.87 examples/s]"
          }
        },
        "5e10621d2c0347578431c3d66cf750e4": {
          "model_module": "@jupyter-widgets/base",
          "model_name": "LayoutModel",
          "model_module_version": "1.2.0",
          "state": {
            "_model_module": "@jupyter-widgets/base",
            "_model_module_version": "1.2.0",
            "_model_name": "LayoutModel",
            "_view_count": null,
            "_view_module": "@jupyter-widgets/base",
            "_view_module_version": "1.2.0",
            "_view_name": "LayoutView",
            "align_content": null,
            "align_items": null,
            "align_self": null,
            "border": null,
            "bottom": null,
            "display": null,
            "flex": null,
            "flex_flow": null,
            "grid_area": null,
            "grid_auto_columns": null,
            "grid_auto_flow": null,
            "grid_auto_rows": null,
            "grid_column": null,
            "grid_gap": null,
            "grid_row": null,
            "grid_template_areas": null,
            "grid_template_columns": null,
            "grid_template_rows": null,
            "height": null,
            "justify_content": null,
            "justify_items": null,
            "left": null,
            "margin": null,
            "max_height": null,
            "max_width": null,
            "min_height": null,
            "min_width": null,
            "object_fit": null,
            "object_position": null,
            "order": null,
            "overflow": null,
            "overflow_x": null,
            "overflow_y": null,
            "padding": null,
            "right": null,
            "top": null,
            "visibility": "hidden",
            "width": null
          }
        },
        "b089068a33b54682be6cd2da25cd87dc": {
          "model_module": "@jupyter-widgets/base",
          "model_name": "LayoutModel",
          "model_module_version": "1.2.0",
          "state": {
            "_model_module": "@jupyter-widgets/base",
            "_model_module_version": "1.2.0",
            "_model_name": "LayoutModel",
            "_view_count": null,
            "_view_module": "@jupyter-widgets/base",
            "_view_module_version": "1.2.0",
            "_view_name": "LayoutView",
            "align_content": null,
            "align_items": null,
            "align_self": null,
            "border": null,
            "bottom": null,
            "display": null,
            "flex": null,
            "flex_flow": null,
            "grid_area": null,
            "grid_auto_columns": null,
            "grid_auto_flow": null,
            "grid_auto_rows": null,
            "grid_column": null,
            "grid_gap": null,
            "grid_row": null,
            "grid_template_areas": null,
            "grid_template_columns": null,
            "grid_template_rows": null,
            "height": null,
            "justify_content": null,
            "justify_items": null,
            "left": null,
            "margin": null,
            "max_height": null,
            "max_width": null,
            "min_height": null,
            "min_width": null,
            "object_fit": null,
            "object_position": null,
            "order": null,
            "overflow": null,
            "overflow_x": null,
            "overflow_y": null,
            "padding": null,
            "right": null,
            "top": null,
            "visibility": null,
            "width": null
          }
        },
        "f61495dc575647d7a45b0229cbb5ce62": {
          "model_module": "@jupyter-widgets/controls",
          "model_name": "DescriptionStyleModel",
          "model_module_version": "1.5.0",
          "state": {
            "_model_module": "@jupyter-widgets/controls",
            "_model_module_version": "1.5.0",
            "_model_name": "DescriptionStyleModel",
            "_view_count": null,
            "_view_module": "@jupyter-widgets/base",
            "_view_module_version": "1.2.0",
            "_view_name": "StyleView",
            "description_width": ""
          }
        },
        "d12686217ffc4f0baa1be03a3d14afee": {
          "model_module": "@jupyter-widgets/base",
          "model_name": "LayoutModel",
          "model_module_version": "1.2.0",
          "state": {
            "_model_module": "@jupyter-widgets/base",
            "_model_module_version": "1.2.0",
            "_model_name": "LayoutModel",
            "_view_count": null,
            "_view_module": "@jupyter-widgets/base",
            "_view_module_version": "1.2.0",
            "_view_name": "LayoutView",
            "align_content": null,
            "align_items": null,
            "align_self": null,
            "border": null,
            "bottom": null,
            "display": null,
            "flex": null,
            "flex_flow": null,
            "grid_area": null,
            "grid_auto_columns": null,
            "grid_auto_flow": null,
            "grid_auto_rows": null,
            "grid_column": null,
            "grid_gap": null,
            "grid_row": null,
            "grid_template_areas": null,
            "grid_template_columns": null,
            "grid_template_rows": null,
            "height": null,
            "justify_content": null,
            "justify_items": null,
            "left": null,
            "margin": null,
            "max_height": null,
            "max_width": null,
            "min_height": null,
            "min_width": null,
            "object_fit": null,
            "object_position": null,
            "order": null,
            "overflow": null,
            "overflow_x": null,
            "overflow_y": null,
            "padding": null,
            "right": null,
            "top": null,
            "visibility": null,
            "width": null
          }
        },
        "861285f727534027971484a4e9fa672c": {
          "model_module": "@jupyter-widgets/controls",
          "model_name": "ProgressStyleModel",
          "model_module_version": "1.5.0",
          "state": {
            "_model_module": "@jupyter-widgets/controls",
            "_model_module_version": "1.5.0",
            "_model_name": "ProgressStyleModel",
            "_view_count": null,
            "_view_module": "@jupyter-widgets/base",
            "_view_module_version": "1.2.0",
            "_view_name": "StyleView",
            "bar_color": null,
            "description_width": ""
          }
        },
        "fd3285d1b6da4fe0bcf373cc73e105d3": {
          "model_module": "@jupyter-widgets/base",
          "model_name": "LayoutModel",
          "model_module_version": "1.2.0",
          "state": {
            "_model_module": "@jupyter-widgets/base",
            "_model_module_version": "1.2.0",
            "_model_name": "LayoutModel",
            "_view_count": null,
            "_view_module": "@jupyter-widgets/base",
            "_view_module_version": "1.2.0",
            "_view_name": "LayoutView",
            "align_content": null,
            "align_items": null,
            "align_self": null,
            "border": null,
            "bottom": null,
            "display": null,
            "flex": null,
            "flex_flow": null,
            "grid_area": null,
            "grid_auto_columns": null,
            "grid_auto_flow": null,
            "grid_auto_rows": null,
            "grid_column": null,
            "grid_gap": null,
            "grid_row": null,
            "grid_template_areas": null,
            "grid_template_columns": null,
            "grid_template_rows": null,
            "height": null,
            "justify_content": null,
            "justify_items": null,
            "left": null,
            "margin": null,
            "max_height": null,
            "max_width": null,
            "min_height": null,
            "min_width": null,
            "object_fit": null,
            "object_position": null,
            "order": null,
            "overflow": null,
            "overflow_x": null,
            "overflow_y": null,
            "padding": null,
            "right": null,
            "top": null,
            "visibility": null,
            "width": null
          }
        },
        "db9272f1c9ae49278eab56d1148eb6ee": {
          "model_module": "@jupyter-widgets/controls",
          "model_name": "DescriptionStyleModel",
          "model_module_version": "1.5.0",
          "state": {
            "_model_module": "@jupyter-widgets/controls",
            "_model_module_version": "1.5.0",
            "_model_name": "DescriptionStyleModel",
            "_view_count": null,
            "_view_module": "@jupyter-widgets/base",
            "_view_module_version": "1.2.0",
            "_view_name": "StyleView",
            "description_width": ""
          }
        }
      }
    }
  },
  "nbformat": 4,
  "nbformat_minor": 0
}